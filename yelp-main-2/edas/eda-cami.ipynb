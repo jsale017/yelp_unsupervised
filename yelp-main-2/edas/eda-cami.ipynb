{
 "cells": [
  {
   "cell_type": "code",
   "execution_count": 1,
   "id": "initial_id",
   "metadata": {
    "collapsed": true
   },
   "outputs": [],
   "source": [
    "import pandas as pd\n",
    "\n",
    "test_sample = pd.read_csv('under-sample.csv')"
   ]
  },
  {
   "cell_type": "markdown",
   "id": "46de19f5",
   "metadata": {},
   "source": [
    "#### Cleaning and transforming"
   ]
  },
  {
   "cell_type": "code",
   "execution_count": 2,
   "id": "80b4720d",
   "metadata": {},
   "outputs": [],
   "source": [
    "test_sample.drop(columns = ['address', 'tip_review'], axis = 1, inplace = True)"
   ]
  },
  {
   "cell_type": "code",
   "execution_count": 3,
   "id": "cd9cc4ce",
   "metadata": {},
   "outputs": [],
   "source": [
    "test_sample.set_index('Unnamed: 0', inplace=True)\n"
   ]
  },
  {
   "cell_type": "code",
   "execution_count": 4,
   "id": "a81a67e8",
   "metadata": {},
   "outputs": [
    {
     "data": {
      "text/plain": [
       "business_id                  0\n",
       "user_id                      0\n",
       "text                         0\n",
       "cool                         0\n",
       "stars                        0\n",
       "date                         0\n",
       "funny                        0\n",
       "review_id                    0\n",
       "useful                       0\n",
       "average_user_stars           1\n",
       "yelping_since                1\n",
       "submitted_reviews            1\n",
       "name                         0\n",
       "city                         0\n",
       "state                        0\n",
       "latitude                     0\n",
       "longitude                    0\n",
       "average_business_stars       0\n",
       "recieved_reviews             0\n",
       "categories                  29\n",
       "attributes                8601\n",
       "dtype: int64"
      ]
     },
     "execution_count": 4,
     "metadata": {},
     "output_type": "execute_result"
    }
   ],
   "source": [
    "nans = test_sample.isna().sum()\n",
    "nans"
   ]
  },
  {
   "cell_type": "code",
   "execution_count": 5,
   "id": "760a31a5",
   "metadata": {},
   "outputs": [],
   "source": [
    "test_sample_dropped_na = test_sample.dropna()"
   ]
  },
  {
   "cell_type": "code",
   "execution_count": 6,
   "id": "4a04057b",
   "metadata": {},
   "outputs": [
    {
     "name": "stderr",
     "output_type": "stream",
     "text": [
      "/var/folders/bh/5l0x24tj2s55q5v7h7jfrhlw0000gn/T/ipykernel_4539/2206027665.py:1: SettingWithCopyWarning: \n",
      "A value is trying to be set on a copy of a slice from a DataFrame.\n",
      "Try using .loc[row_indexer,col_indexer] = value instead\n",
      "\n",
      "See the caveats in the documentation: https://pandas.pydata.org/pandas-docs/stable/user_guide/indexing.html#returning-a-view-versus-a-copy\n",
      "  test_sample_dropped_na['category'] = test_sample_dropped_na['categories'].str.split(',').str[0]\n"
     ]
    }
   ],
   "source": [
    "test_sample_dropped_na['category'] = test_sample_dropped_na['categories'].str.split(',').str[0]"
   ]
  },
  {
   "cell_type": "code",
   "execution_count": 7,
   "id": "39ddc3af",
   "metadata": {},
   "outputs": [
    {
     "data": {
      "text/plain": [
       "1017"
      ]
     },
     "execution_count": 7,
     "metadata": {},
     "output_type": "execute_result"
    }
   ],
   "source": [
    "test_sample_dropped_na['category'].nunique()"
   ]
  },
  {
   "cell_type": "code",
   "execution_count": 8,
   "id": "a4dbdf95",
   "metadata": {},
   "outputs": [
    {
     "data": {
      "text/plain": [
       "Restaurants                      55518\n",
       "Food                             16411\n",
       "Nightlife                        10706\n",
       "Bars                              9520\n",
       "American (Traditional)            8283\n",
       "                                 ...  \n",
       "Process Servers                      1\n",
       "Vocational & Technical School        1\n",
       "Endocrinologists                     1\n",
       "Fingerprinting                       1\n",
       "Dialysis Clinics                     1\n",
       "Name: category, Length: 1017, dtype: int64"
      ]
     },
     "execution_count": 8,
     "metadata": {},
     "output_type": "execute_result"
    }
   ],
   "source": [
    "categories = test_sample_dropped_na['category'].value_counts()\n",
    "categories"
   ]
  },
  {
   "cell_type": "code",
   "execution_count": 9,
   "id": "b40875ce",
   "metadata": {},
   "outputs": [
    {
     "name": "stderr",
     "output_type": "stream",
     "text": [
      "/var/folders/bh/5l0x24tj2s55q5v7h7jfrhlw0000gn/T/ipykernel_4539/2953546023.py:1: SettingWithCopyWarning: \n",
      "A value is trying to be set on a copy of a slice from a DataFrame.\n",
      "Try using .loc[row_indexer,col_indexer] = value instead\n",
      "\n",
      "See the caveats in the documentation: https://pandas.pydata.org/pandas-docs/stable/user_guide/indexing.html#returning-a-view-versus-a-copy\n",
      "  test_sample_dropped_na['main_category'] = test_sample_dropped_na['category']\n",
      "/var/folders/bh/5l0x24tj2s55q5v7h7jfrhlw0000gn/T/ipykernel_4539/2953546023.py:3: SettingWithCopyWarning: \n",
      "A value is trying to be set on a copy of a slice from a DataFrame.\n",
      "Try using .loc[row_indexer,col_indexer] = value instead\n",
      "\n",
      "See the caveats in the documentation: https://pandas.pydata.org/pandas-docs/stable/user_guide/indexing.html#returning-a-view-versus-a-copy\n",
      "  test_sample_dropped_na['main_category'] = test_sample_dropped_na['main_category'].apply(lambda x: 'Restaurants' if x in resturant_categories else x)\n"
     ]
    }
   ],
   "source": [
    "test_sample_dropped_na['main_category'] = test_sample_dropped_na['category']\n",
    "resturant_categories = ['Food','Local Flavor','Canadian (New)','Vietnamese','Italian','Buffets','Burgers','American (Traditional)','American (New)', 'Breakfast & Brunch','Sandwiches','Seafood','Mexican','Pizza', 'Cajun/Creole','Sushi Bars','Chinese','Japanese','Steakhouses','Cafes','Salad','Fast Food','Bakeries','Ice Cream & Frozen Yogurt','Desserts','Barbeque','Thai','Specialty Food','Asian Fusion','Southern','Diners','Mediterranean','Delis','Caterers','Chicken Wings','Vegetarian','Indian','Comfort Food','Latin American','French','Vegan','Greek','Gluten-Free','Tex-Mex','Korean','Soup','Donuts','Live/Raw Food','Tacos','Tapas/Small Plates','Gastropubs','Food Delivery Services','Pakistani','Tapas Bars','Cheesesteaks','Soul Food','Ethnic Food','Middle Eastern','German','Bagels','Food Trucks','Hot Dogs','Noodles','Creperies','Spanish','Caribbean','Chicken Shop','Ramen','Cuban','Irish','Basque','Halal','Dim Sum','New Mexican Cuisine','Poke','Seafood Markets','British','Gelato','Cupcakes','Ethiopian','Peruvian','Falafel','Custom Cakes','Pasta Shops','Kebab','Hot Pot','Puerto Rican','Dominican','Salvadoran','Cafeteria','Pancakes','Senegalese','Sri Lankan','Parent Cafes']\n",
    "test_sample_dropped_na['main_category'] = test_sample_dropped_na['main_category'].apply(lambda x: 'Restaurants' if x in resturant_categories else x)"
   ]
  },
  {
   "cell_type": "code",
   "execution_count": 10,
   "id": "2ec3358c",
   "metadata": {},
   "outputs": [
    {
     "name": "stderr",
     "output_type": "stream",
     "text": [
      "/var/folders/bh/5l0x24tj2s55q5v7h7jfrhlw0000gn/T/ipykernel_4539/3533099631.py:2: SettingWithCopyWarning: \n",
      "A value is trying to be set on a copy of a slice from a DataFrame.\n",
      "Try using .loc[row_indexer,col_indexer] = value instead\n",
      "\n",
      "See the caveats in the documentation: https://pandas.pydata.org/pandas-docs/stable/user_guide/indexing.html#returning-a-view-versus-a-copy\n",
      "  test_sample_dropped_na['main_category'] = test_sample_dropped_na['main_category'].apply(lambda x: 'Beauty & Spas' if x in beauty else x)\n"
     ]
    }
   ],
   "source": [
    "beauty = ['Nail Salons','Hair Salons','Hair Removal','Waxing','Day Spas','Skin Care','Massage','Barbers','Hair Stylists','Cosmetics & Beauty Supply','Eyelash Service','Massage Therapy','Makeup Artists','Tanning',\"Men's Hair Salons\",'Float Spa']\n",
    "test_sample_dropped_na['main_category'] = test_sample_dropped_na['main_category'].apply(lambda x: 'Beauty & Spas' if x in beauty else x)"
   ]
  },
  {
   "cell_type": "code",
   "execution_count": 11,
   "id": "e583b7c2",
   "metadata": {},
   "outputs": [
    {
     "name": "stderr",
     "output_type": "stream",
     "text": [
      "/var/folders/bh/5l0x24tj2s55q5v7h7jfrhlw0000gn/T/ipykernel_4539/2479137130.py:2: SettingWithCopyWarning: \n",
      "A value is trying to be set on a copy of a slice from a DataFrame.\n",
      "Try using .loc[row_indexer,col_indexer] = value instead\n",
      "\n",
      "See the caveats in the documentation: https://pandas.pydata.org/pandas-docs/stable/user_guide/indexing.html#returning-a-view-versus-a-copy\n",
      "  test_sample_dropped_na['main_category'] = test_sample_dropped_na['main_category'].apply(lambda x: 'Bars' if x in bars else x)\n"
     ]
    }
   ],
   "source": [
    "bars = ['Cocktail Bars','Beer','Pubs','Sports Bars','Wine Bars','Breweries','Beer Bar','Dive Bars','Wine Tasting Classes','Meaderies']\n",
    "test_sample_dropped_na['main_category'] = test_sample_dropped_na['main_category'].apply(lambda x: 'Bars' if x in bars else x)"
   ]
  },
  {
   "cell_type": "code",
   "execution_count": 12,
   "id": "0817c477",
   "metadata": {},
   "outputs": [
    {
     "name": "stderr",
     "output_type": "stream",
     "text": [
      "/var/folders/bh/5l0x24tj2s55q5v7h7jfrhlw0000gn/T/ipykernel_4539/882038581.py:2: SettingWithCopyWarning: \n",
      "A value is trying to be set on a copy of a slice from a DataFrame.\n",
      "Try using .loc[row_indexer,col_indexer] = value instead\n",
      "\n",
      "See the caveats in the documentation: https://pandas.pydata.org/pandas-docs/stable/user_guide/indexing.html#returning-a-view-versus-a-copy\n",
      "  test_sample_dropped_na['main_category'] = test_sample_dropped_na['main_category'].apply(lambda x: 'Hotels & Travel' if x in hotels else x)\n"
     ]
    }
   ],
   "source": [
    "hotels = ['Hotels','Resorts']\n",
    "test_sample_dropped_na['main_category'] = test_sample_dropped_na['main_category'].apply(lambda x: 'Hotels & Travel' if x in hotels else x)"
   ]
  },
  {
   "cell_type": "code",
   "execution_count": 13,
   "id": "c4916d52",
   "metadata": {},
   "outputs": [
    {
     "name": "stderr",
     "output_type": "stream",
     "text": [
      "/var/folders/bh/5l0x24tj2s55q5v7h7jfrhlw0000gn/T/ipykernel_4539/1553007118.py:2: SettingWithCopyWarning: \n",
      "A value is trying to be set on a copy of a slice from a DataFrame.\n",
      "Try using .loc[row_indexer,col_indexer] = value instead\n",
      "\n",
      "See the caveats in the documentation: https://pandas.pydata.org/pandas-docs/stable/user_guide/indexing.html#returning-a-view-versus-a-copy\n",
      "  test_sample_dropped_na['main_category'] = test_sample_dropped_na['main_category'].apply(lambda x: 'Automotive' if x in auto else x)\n"
     ]
    }
   ],
   "source": [
    "auto = ['Auto Repair','Car Dealers','Oil Change Stations','Auto Parts & Supplies','Tires','Car Wash','Body Shops','Car Rental','Auto Detailing','Auto Loan Providers','Trailer Rental','Departments of Motor Vehicles','Motorcycle Rental','Mobile Dent Repair','Motorsport Vehicle Dealers','Bike tours']\n",
    "test_sample_dropped_na['main_category'] = test_sample_dropped_na['main_category'].apply(lambda x: 'Automotive' if x in auto else x)"
   ]
  },
  {
   "cell_type": "code",
   "execution_count": 14,
   "id": "5ff24653",
   "metadata": {},
   "outputs": [
    {
     "name": "stderr",
     "output_type": "stream",
     "text": [
      "/var/folders/bh/5l0x24tj2s55q5v7h7jfrhlw0000gn/T/ipykernel_4539/739019121.py:2: SettingWithCopyWarning: \n",
      "A value is trying to be set on a copy of a slice from a DataFrame.\n",
      "Try using .loc[row_indexer,col_indexer] = value instead\n",
      "\n",
      "See the caveats in the documentation: https://pandas.pydata.org/pandas-docs/stable/user_guide/indexing.html#returning-a-view-versus-a-copy\n",
      "  test_sample_dropped_na['main_category'] = test_sample_dropped_na['main_category'].apply(lambda x: 'Event Planning & Services' if x in venues else x)\n"
     ]
    }
   ],
   "source": [
    "venues = ['Venues & Event Spaces','Party & Event Planning']\n",
    "test_sample_dropped_na['main_category'] = test_sample_dropped_na['main_category'].apply(lambda x: 'Event Planning & Services' if x in venues else x)"
   ]
  },
  {
   "cell_type": "code",
   "execution_count": 15,
   "id": "b88208dd",
   "metadata": {},
   "outputs": [
    {
     "name": "stderr",
     "output_type": "stream",
     "text": [
      "/var/folders/bh/5l0x24tj2s55q5v7h7jfrhlw0000gn/T/ipykernel_4539/1231987046.py:2: SettingWithCopyWarning: \n",
      "A value is trying to be set on a copy of a slice from a DataFrame.\n",
      "Try using .loc[row_indexer,col_indexer] = value instead\n",
      "\n",
      "See the caveats in the documentation: https://pandas.pydata.org/pandas-docs/stable/user_guide/indexing.html#returning-a-view-versus-a-copy\n",
      "  test_sample_dropped_na['main_category'] = test_sample_dropped_na['main_category'].apply(lambda x: 'Active Life' if x in health else x)\n"
     ]
    }
   ],
   "source": [
    "health = ['Fitness & Instruction','Gyms','Kickboxing','Aerial Fitness']\n",
    "test_sample_dropped_na['main_category'] = test_sample_dropped_na['main_category'].apply(lambda x: 'Active Life' if x in health else x)"
   ]
  },
  {
   "cell_type": "code",
   "execution_count": 16,
   "id": "e1597307",
   "metadata": {},
   "outputs": [
    {
     "name": "stderr",
     "output_type": "stream",
     "text": [
      "/var/folders/bh/5l0x24tj2s55q5v7h7jfrhlw0000gn/T/ipykernel_4539/1837148663.py:2: SettingWithCopyWarning: \n",
      "A value is trying to be set on a copy of a slice from a DataFrame.\n",
      "Try using .loc[row_indexer,col_indexer] = value instead\n",
      "\n",
      "See the caveats in the documentation: https://pandas.pydata.org/pandas-docs/stable/user_guide/indexing.html#returning-a-view-versus-a-copy\n",
      "  test_sample_dropped_na['main_category'] = test_sample_dropped_na['main_category'].apply(lambda x: 'Arts & Entertainment' if x in entertainment else x)\n"
     ]
    }
   ],
   "source": [
    "entertainment = ['Cinema','Museums','Tours','Performing Arts','Arts & Crafts','Jazz & Blues','Landmarks & Historical Buildings','Golf','Art Galleries','Festivals','Stadiums & Arenas','Zoos','Hiking','Bike Rentals','Playgrounds','Professional Sports Teams','Recreation Centers','Art Tours','Country Clubs','Decks & Railing','Mountain Biking','Dinner Theater','Tabletop Games','Aerial Tours','Party Bike Rentals','Game Truck Rental','Psychic Mediums']\n",
    "test_sample_dropped_na['main_category'] = test_sample_dropped_na['main_category'].apply(lambda x: 'Arts & Entertainment' if x in entertainment else x)"
   ]
  },
  {
   "cell_type": "code",
   "execution_count": 17,
   "id": "0efcf31c",
   "metadata": {},
   "outputs": [
    {
     "name": "stderr",
     "output_type": "stream",
     "text": [
      "/var/folders/bh/5l0x24tj2s55q5v7h7jfrhlw0000gn/T/ipykernel_4539/2607808559.py:2: SettingWithCopyWarning: \n",
      "A value is trying to be set on a copy of a slice from a DataFrame.\n",
      "Try using .loc[row_indexer,col_indexer] = value instead\n",
      "\n",
      "See the caveats in the documentation: https://pandas.pydata.org/pandas-docs/stable/user_guide/indexing.html#returning-a-view-versus-a-copy\n",
      "  test_sample_dropped_na['main_category'] = test_sample_dropped_na['main_category'].apply(lambda x: 'Health & Medical' if x in medical else x)\n"
     ]
    }
   ],
   "source": [
    "medical = ['Doctors','Dentists','General Dentistry','Eyewear & Opticians','Medical Centers','Cosmetic Dentists','Chiropractors','Optometrists','Reflexology','Orthodontists','Periodontists','Medical Cannabis Referrals','Pain Management','Surgeons','Allergists','Anesthesiologists','Body Contouring','Dialysis Clinics','Reproductive Health Services','Memory Care','Preventive Medicine','Lice Services','Medical Transportation','Prosthodontists']\n",
    "test_sample_dropped_na['main_category'] = test_sample_dropped_na['main_category'].apply(lambda x: 'Health & Medical' if x in medical else x)"
   ]
  },
  {
   "cell_type": "code",
   "execution_count": 18,
   "id": "272132d4",
   "metadata": {},
   "outputs": [
    {
     "name": "stderr",
     "output_type": "stream",
     "text": [
      "/var/folders/bh/5l0x24tj2s55q5v7h7jfrhlw0000gn/T/ipykernel_4539/3954106220.py:2: SettingWithCopyWarning: \n",
      "A value is trying to be set on a copy of a slice from a DataFrame.\n",
      "Try using .loc[row_indexer,col_indexer] = value instead\n",
      "\n",
      "See the caveats in the documentation: https://pandas.pydata.org/pandas-docs/stable/user_guide/indexing.html#returning-a-view-versus-a-copy\n",
      "  test_sample_dropped_na['main_category'] = test_sample_dropped_na['main_category'].apply(lambda x: 'Nightlife' if x in nightlife else x)\n"
     ]
    }
   ],
   "source": [
    "nightlife = ['Dance Clubs']\n",
    "test_sample_dropped_na['main_category'] = test_sample_dropped_na['main_category'].apply(lambda x: 'Nightlife' if x in nightlife else x)"
   ]
  },
  {
   "cell_type": "code",
   "execution_count": 19,
   "id": "4771c9b4",
   "metadata": {},
   "outputs": [
    {
     "name": "stderr",
     "output_type": "stream",
     "text": [
      "/var/folders/bh/5l0x24tj2s55q5v7h7jfrhlw0000gn/T/ipykernel_4539/2517384766.py:2: SettingWithCopyWarning: \n",
      "A value is trying to be set on a copy of a slice from a DataFrame.\n",
      "Try using .loc[row_indexer,col_indexer] = value instead\n",
      "\n",
      "See the caveats in the documentation: https://pandas.pydata.org/pandas-docs/stable/user_guide/indexing.html#returning-a-view-versus-a-copy\n",
      "  test_sample_dropped_na['main_category'] = test_sample_dropped_na['main_category'].apply(lambda x: 'Home Services' if x in home_services else x)\n"
     ]
    }
   ],
   "source": [
    "home_services = ['Movers','Apartments','Real Estate','Contractors','Heating & Air Conditioning/HVAC','Furniture Stores','Home Decor','Plumbing','Appliances & Repair','Mattresses','Sewing & Alterations','Home Cleaning','Appliances','Pest Control','Property Management','Landscaping','Kitchen & Bath','Real Estate Agents','Electricians','Carpeting','Packing Services','Commercial Real Estate','Decks & Railing','Chimney Sweeps','Countertop Installation','Home Network Installation','Roof Inspectors','Outdoor Power Equipment Services']\n",
    "test_sample_dropped_na['main_category'] = test_sample_dropped_na['main_category'].apply(lambda x: 'Home Services' if x in home_services else x)"
   ]
  },
  {
   "cell_type": "code",
   "execution_count": 20,
   "id": "d22fdff3",
   "metadata": {},
   "outputs": [
    {
     "name": "stderr",
     "output_type": "stream",
     "text": [
      "/var/folders/bh/5l0x24tj2s55q5v7h7jfrhlw0000gn/T/ipykernel_4539/570973357.py:2: SettingWithCopyWarning: \n",
      "A value is trying to be set on a copy of a slice from a DataFrame.\n",
      "Try using .loc[row_indexer,col_indexer] = value instead\n",
      "\n",
      "See the caveats in the documentation: https://pandas.pydata.org/pandas-docs/stable/user_guide/indexing.html#returning-a-view-versus-a-copy\n",
      "  test_sample_dropped_na['main_category'] = test_sample_dropped_na['main_category'].apply(lambda x: 'Shopping' if x in shopping else x)\n"
     ]
    }
   ],
   "source": [
    "shopping = ['Department Stores','Jewelry','Fashion','Sporting Goods',\"Women's Clothing\",'Drugstores','Convenience Stores','Accessories','Trainers','Health Markets','Shopping Centers','Shoe Stores','Thrift Stores',\"Men's Clothing\",'Piercing','Tobacco Shops','Hobby Shops','Shoe Repair','Screen Printing/T-Shirt Printing','Rugs','Hunting & Fishing Supplies','Wigs','Sunglasses','Hockey Equipment','Storefront Clinics','Snorkeling','Perfume','Local Fish Stores']\n",
    "test_sample_dropped_na['main_category'] = test_sample_dropped_na['main_category'].apply(lambda x: 'Shopping' if x in shopping else x)"
   ]
  },
  {
   "cell_type": "code",
   "execution_count": 21,
   "id": "84ba064f",
   "metadata": {},
   "outputs": [
    {
     "name": "stderr",
     "output_type": "stream",
     "text": [
      "/var/folders/bh/5l0x24tj2s55q5v7h7jfrhlw0000gn/T/ipykernel_4539/3878969130.py:2: SettingWithCopyWarning: \n",
      "A value is trying to be set on a copy of a slice from a DataFrame.\n",
      "Try using .loc[row_indexer,col_indexer] = value instead\n",
      "\n",
      "See the caveats in the documentation: https://pandas.pydata.org/pandas-docs/stable/user_guide/indexing.html#returning-a-view-versus-a-copy\n",
      "  test_sample_dropped_na['main_category'] = test_sample_dropped_na['main_category'].apply(lambda x: 'Coffee & Tea' if x in coffee_tea else x)\n"
     ]
    }
   ],
   "source": [
    "coffee_tea = ['Bubble Tea','Coffee Roasteries','Tea Rooms']\n",
    "test_sample_dropped_na['main_category'] = test_sample_dropped_na['main_category'].apply(lambda x: 'Coffee & Tea' if x in coffee_tea else x)"
   ]
  },
  {
   "cell_type": "code",
   "execution_count": 22,
   "id": "828b8d12",
   "metadata": {},
   "outputs": [
    {
     "name": "stderr",
     "output_type": "stream",
     "text": [
      "/var/folders/bh/5l0x24tj2s55q5v7h7jfrhlw0000gn/T/ipykernel_4539/2670156015.py:2: SettingWithCopyWarning: \n",
      "A value is trying to be set on a copy of a slice from a DataFrame.\n",
      "Try using .loc[row_indexer,col_indexer] = value instead\n",
      "\n",
      "See the caveats in the documentation: https://pandas.pydata.org/pandas-docs/stable/user_guide/indexing.html#returning-a-view-versus-a-copy\n",
      "  test_sample_dropped_na['main_category'] = test_sample_dropped_na['main_category'].apply(lambda x: 'Pets' if x in pets else x)\n"
     ]
    }
   ],
   "source": [
    "pets = ['Pet Services','Veterinarians','Pet Stores','Pet Hospice']\n",
    "test_sample_dropped_na['main_category'] = test_sample_dropped_na['main_category'].apply(lambda x: 'Pets' if x in pets else x)"
   ]
  },
  {
   "cell_type": "code",
   "execution_count": 23,
   "id": "f1f4c1d7",
   "metadata": {},
   "outputs": [
    {
     "name": "stderr",
     "output_type": "stream",
     "text": [
      "/var/folders/bh/5l0x24tj2s55q5v7h7jfrhlw0000gn/T/ipykernel_4539/890427474.py:2: SettingWithCopyWarning: \n",
      "A value is trying to be set on a copy of a slice from a DataFrame.\n",
      "Try using .loc[row_indexer,col_indexer] = value instead\n",
      "\n",
      "See the caveats in the documentation: https://pandas.pydata.org/pandas-docs/stable/user_guide/indexing.html#returning-a-view-versus-a-copy\n",
      "  test_sample_dropped_na['main_category'] = test_sample_dropped_na['main_category'].apply(lambda x: 'Flowers & Gifts' if x in florist else x)\n"
     ]
    }
   ],
   "source": [
    "florist = ['Florists','Gift Shops']\n",
    "test_sample_dropped_na['main_category'] = test_sample_dropped_na['main_category'].apply(lambda x: 'Flowers & Gifts' if x in florist else x)"
   ]
  },
  {
   "cell_type": "code",
   "execution_count": 24,
   "id": "69717ec1",
   "metadata": {},
   "outputs": [
    {
     "name": "stderr",
     "output_type": "stream",
     "text": [
      "/var/folders/bh/5l0x24tj2s55q5v7h7jfrhlw0000gn/T/ipykernel_4539/3784850926.py:2: SettingWithCopyWarning: \n",
      "A value is trying to be set on a copy of a slice from a DataFrame.\n",
      "Try using .loc[row_indexer,col_indexer] = value instead\n",
      "\n",
      "See the caveats in the documentation: https://pandas.pydata.org/pandas-docs/stable/user_guide/indexing.html#returning-a-view-versus-a-copy\n",
      "  test_sample_dropped_na['main_category'] = test_sample_dropped_na['main_category'].apply(lambda x: 'Grocery' if x in groceries else x)\n"
     ]
    }
   ],
   "source": [
    "groceries = ['Fruits & Veggies','Wholesale Stores','Wholesalers']\n",
    "test_sample_dropped_na['main_category'] = test_sample_dropped_na['main_category'].apply(lambda x: 'Grocery' if x in groceries else x)"
   ]
  },
  {
   "cell_type": "code",
   "execution_count": 25,
   "id": "a95210ae",
   "metadata": {},
   "outputs": [
    {
     "data": {
      "text/html": [
       "<div>\n",
       "<style scoped>\n",
       "    .dataframe tbody tr th:only-of-type {\n",
       "        vertical-align: middle;\n",
       "    }\n",
       "\n",
       "    .dataframe tbody tr th {\n",
       "        vertical-align: top;\n",
       "    }\n",
       "\n",
       "    .dataframe thead th {\n",
       "        text-align: right;\n",
       "    }\n",
       "</style>\n",
       "<table border=\"1\" class=\"dataframe\">\n",
       "  <thead>\n",
       "    <tr style=\"text-align: right;\">\n",
       "      <th></th>\n",
       "      <th>business_id</th>\n",
       "      <th>user_id</th>\n",
       "      <th>text</th>\n",
       "      <th>cool</th>\n",
       "      <th>stars</th>\n",
       "      <th>date</th>\n",
       "      <th>funny</th>\n",
       "      <th>review_id</th>\n",
       "      <th>useful</th>\n",
       "      <th>average_user_stars</th>\n",
       "      <th>...</th>\n",
       "      <th>city</th>\n",
       "      <th>state</th>\n",
       "      <th>latitude</th>\n",
       "      <th>longitude</th>\n",
       "      <th>average_business_stars</th>\n",
       "      <th>recieved_reviews</th>\n",
       "      <th>categories</th>\n",
       "      <th>attributes</th>\n",
       "      <th>category</th>\n",
       "      <th>main_category</th>\n",
       "    </tr>\n",
       "    <tr>\n",
       "      <th>Unnamed: 0</th>\n",
       "      <th></th>\n",
       "      <th></th>\n",
       "      <th></th>\n",
       "      <th></th>\n",
       "      <th></th>\n",
       "      <th></th>\n",
       "      <th></th>\n",
       "      <th></th>\n",
       "      <th></th>\n",
       "      <th></th>\n",
       "      <th></th>\n",
       "      <th></th>\n",
       "      <th></th>\n",
       "      <th></th>\n",
       "      <th></th>\n",
       "      <th></th>\n",
       "      <th></th>\n",
       "      <th></th>\n",
       "      <th></th>\n",
       "      <th></th>\n",
       "      <th></th>\n",
       "    </tr>\n",
       "  </thead>\n",
       "  <tbody>\n",
       "    <tr>\n",
       "      <th>0</th>\n",
       "      <td>ZeJjnl4o5sffMxPTt7h6ug</td>\n",
       "      <td>CNPZ2ZjDu-lNPKi6f5wEIA</td>\n",
       "      <td>I tried to give this company the benefit of th...</td>\n",
       "      <td>0</td>\n",
       "      <td>1.0</td>\n",
       "      <td>2015-09-09 15:02:48+00:00</td>\n",
       "      <td>0</td>\n",
       "      <td>Zs2sKoUKASUe_WsGpQuE8A</td>\n",
       "      <td>5</td>\n",
       "      <td>2.20</td>\n",
       "      <td>...</td>\n",
       "      <td>kop</td>\n",
       "      <td>PA</td>\n",
       "      <td>40.102683</td>\n",
       "      <td>-75.355972</td>\n",
       "      <td>2.0</td>\n",
       "      <td>70</td>\n",
       "      <td>Automotive, Auto Repair, Towing</td>\n",
       "      <td>{'BusinessAcceptsCreditCards': 'False'}</td>\n",
       "      <td>Automotive</td>\n",
       "      <td>Automotive</td>\n",
       "    </tr>\n",
       "    <tr>\n",
       "      <th>1</th>\n",
       "      <td>Ccs-77XZCWf1aOozv6U-Ww</td>\n",
       "      <td>nJVAtTBB-25RiomzBB8bHw</td>\n",
       "      <td>We ended up here through serendipity... White ...</td>\n",
       "      <td>0</td>\n",
       "      <td>5.0</td>\n",
       "      <td>2017-11-18 19:59:59+00:00</td>\n",
       "      <td>0</td>\n",
       "      <td>Eju6FaSp93TC_g06mwwFzA</td>\n",
       "      <td>0</td>\n",
       "      <td>2.82</td>\n",
       "      <td>...</td>\n",
       "      <td>Atco</td>\n",
       "      <td>NJ</td>\n",
       "      <td>39.738343</td>\n",
       "      <td>-74.886403</td>\n",
       "      <td>4.5</td>\n",
       "      <td>53</td>\n",
       "      <td>Food, Arts &amp; Entertainment, Wineries</td>\n",
       "      <td>{'GoodForKids': 'False', 'RestaurantsPriceRang...</td>\n",
       "      <td>Food</td>\n",
       "      <td>Restaurants</td>\n",
       "    </tr>\n",
       "    <tr>\n",
       "      <th>2</th>\n",
       "      <td>FHdgpBT2Br7BL-V3gglIkA</td>\n",
       "      <td>zZOjl_mlBoqJN22dD5nbpQ</td>\n",
       "      <td>Bouncers were actively enforcing CDC/ social d...</td>\n",
       "      <td>0</td>\n",
       "      <td>5.0</td>\n",
       "      <td>2020-06-27 04:51:22+00:00</td>\n",
       "      <td>0</td>\n",
       "      <td>ulSlOe8dnv8mjLvLtly8hQ</td>\n",
       "      <td>0</td>\n",
       "      <td>3.67</td>\n",
       "      <td>...</td>\n",
       "      <td>Atco</td>\n",
       "      <td>NJ</td>\n",
       "      <td>39.772589</td>\n",
       "      <td>-74.900347</td>\n",
       "      <td>3.0</td>\n",
       "      <td>58</td>\n",
       "      <td>American (Traditional), Nightlife, Bars, Sport...</td>\n",
       "      <td>{'Alcohol': \"u'full_bar'\", 'BusinessAcceptsCre...</td>\n",
       "      <td>American (Traditional)</td>\n",
       "      <td>Restaurants</td>\n",
       "    </tr>\n",
       "    <tr>\n",
       "      <th>3</th>\n",
       "      <td>FHdgpBT2Br7BL-V3gglIkA</td>\n",
       "      <td>DWO5d7GJWB2Mmuv67yY_fQ</td>\n",
       "      <td>Its a place that I comfortable but I hate when...</td>\n",
       "      <td>0</td>\n",
       "      <td>2.0</td>\n",
       "      <td>2016-01-08 22:35:17+00:00</td>\n",
       "      <td>0</td>\n",
       "      <td>dISAAuF9njJb6pT2J1ILuQ</td>\n",
       "      <td>0</td>\n",
       "      <td>3.85</td>\n",
       "      <td>...</td>\n",
       "      <td>Atco</td>\n",
       "      <td>NJ</td>\n",
       "      <td>39.772589</td>\n",
       "      <td>-74.900347</td>\n",
       "      <td>3.0</td>\n",
       "      <td>58</td>\n",
       "      <td>American (Traditional), Nightlife, Bars, Sport...</td>\n",
       "      <td>{'Alcohol': \"u'full_bar'\", 'BusinessAcceptsCre...</td>\n",
       "      <td>American (Traditional)</td>\n",
       "      <td>Restaurants</td>\n",
       "    </tr>\n",
       "    <tr>\n",
       "      <th>4</th>\n",
       "      <td>FHdgpBT2Br7BL-V3gglIkA</td>\n",
       "      <td>fJrZ-1B0ngdgM_2qQY_6BA</td>\n",
       "      <td>Great food and great staff! There racks Mack b...</td>\n",
       "      <td>0</td>\n",
       "      <td>5.0</td>\n",
       "      <td>2019-04-12 20:31:51+00:00</td>\n",
       "      <td>0</td>\n",
       "      <td>MlSZu7iI4pbCl7MY0eFXgA</td>\n",
       "      <td>0</td>\n",
       "      <td>3.67</td>\n",
       "      <td>...</td>\n",
       "      <td>Atco</td>\n",
       "      <td>NJ</td>\n",
       "      <td>39.772589</td>\n",
       "      <td>-74.900347</td>\n",
       "      <td>3.0</td>\n",
       "      <td>58</td>\n",
       "      <td>American (Traditional), Nightlife, Bars, Sport...</td>\n",
       "      <td>{'Alcohol': \"u'full_bar'\", 'BusinessAcceptsCre...</td>\n",
       "      <td>American (Traditional)</td>\n",
       "      <td>Restaurants</td>\n",
       "    </tr>\n",
       "    <tr>\n",
       "      <th>...</th>\n",
       "      <td>...</td>\n",
       "      <td>...</td>\n",
       "      <td>...</td>\n",
       "      <td>...</td>\n",
       "      <td>...</td>\n",
       "      <td>...</td>\n",
       "      <td>...</td>\n",
       "      <td>...</td>\n",
       "      <td>...</td>\n",
       "      <td>...</td>\n",
       "      <td>...</td>\n",
       "      <td>...</td>\n",
       "      <td>...</td>\n",
       "      <td>...</td>\n",
       "      <td>...</td>\n",
       "      <td>...</td>\n",
       "      <td>...</td>\n",
       "      <td>...</td>\n",
       "      <td>...</td>\n",
       "      <td>...</td>\n",
       "      <td>...</td>\n",
       "    </tr>\n",
       "    <tr>\n",
       "      <th>327657</th>\n",
       "      <td>HuoKX6R9VC5yn9xj-xUT8w</td>\n",
       "      <td>7ThsVyQniXAH0THHqQpLJw</td>\n",
       "      <td>Was there last night, great food all around.  ...</td>\n",
       "      <td>0</td>\n",
       "      <td>5.0</td>\n",
       "      <td>2013-08-23 00:28:20+00:00</td>\n",
       "      <td>0</td>\n",
       "      <td>9DWpXzU0wI0sJXmaqQWe9g</td>\n",
       "      <td>1</td>\n",
       "      <td>5.00</td>\n",
       "      <td>...</td>\n",
       "      <td>West Collingswood Heights</td>\n",
       "      <td>NJ</td>\n",
       "      <td>39.892485</td>\n",
       "      <td>-75.091006</td>\n",
       "      <td>3.5</td>\n",
       "      <td>121</td>\n",
       "      <td>Italian, Pizza, Restaurants</td>\n",
       "      <td>{'Alcohol': \"u'full_bar'\", 'RestaurantsPriceRa...</td>\n",
       "      <td>Italian</td>\n",
       "      <td>Restaurants</td>\n",
       "    </tr>\n",
       "    <tr>\n",
       "      <th>327658</th>\n",
       "      <td>HuoKX6R9VC5yn9xj-xUT8w</td>\n",
       "      <td>YbgXTYO_87L1GzIrmHHoiQ</td>\n",
       "      <td>Amazing food! A very cozy atmosphere. As good ...</td>\n",
       "      <td>0</td>\n",
       "      <td>5.0</td>\n",
       "      <td>2015-04-08 22:53:47+00:00</td>\n",
       "      <td>0</td>\n",
       "      <td>0ys_6YRgC5xrsU8bzQ2RdQ</td>\n",
       "      <td>0</td>\n",
       "      <td>4.00</td>\n",
       "      <td>...</td>\n",
       "      <td>West Collingswood Heights</td>\n",
       "      <td>NJ</td>\n",
       "      <td>39.892485</td>\n",
       "      <td>-75.091006</td>\n",
       "      <td>3.5</td>\n",
       "      <td>121</td>\n",
       "      <td>Italian, Pizza, Restaurants</td>\n",
       "      <td>{'Alcohol': \"u'full_bar'\", 'RestaurantsPriceRa...</td>\n",
       "      <td>Italian</td>\n",
       "      <td>Restaurants</td>\n",
       "    </tr>\n",
       "    <tr>\n",
       "      <th>327659</th>\n",
       "      <td>r_kRUzLVOws0qdSXINGuQA</td>\n",
       "      <td>qvPylVHr8-0_hmjDl2iX4g</td>\n",
       "      <td>Came in for the Eagles game and had a wonderfu...</td>\n",
       "      <td>0</td>\n",
       "      <td>5.0</td>\n",
       "      <td>2018-10-28 17:12:19+00:00</td>\n",
       "      <td>0</td>\n",
       "      <td>EIhs_ZGmYcANgXvuTHC9Rw</td>\n",
       "      <td>0</td>\n",
       "      <td>5.00</td>\n",
       "      <td>...</td>\n",
       "      <td>Lower Southampton Township</td>\n",
       "      <td>PA</td>\n",
       "      <td>40.148549</td>\n",
       "      <td>-75.022480</td>\n",
       "      <td>4.0</td>\n",
       "      <td>18</td>\n",
       "      <td>Breweries, Food</td>\n",
       "      <td>{'RestaurantsTakeOut': 'True', 'BusinessAccept...</td>\n",
       "      <td>Breweries</td>\n",
       "      <td>Bars</td>\n",
       "    </tr>\n",
       "    <tr>\n",
       "      <th>327660</th>\n",
       "      <td>XZGOTAmHF1fdOfXMES3kaA</td>\n",
       "      <td>yR6bO_X610KIJZm2i8uOiw</td>\n",
       "      <td>I always shop here. The salespeople are honest...</td>\n",
       "      <td>0</td>\n",
       "      <td>5.0</td>\n",
       "      <td>2019-08-05 20:01:46+00:00</td>\n",
       "      <td>0</td>\n",
       "      <td>e6_Ji3VFnxr6Jau-zG5vAA</td>\n",
       "      <td>0</td>\n",
       "      <td>4.07</td>\n",
       "      <td>...</td>\n",
       "      <td>Philadelphia (Northeast Philly)</td>\n",
       "      <td>PA</td>\n",
       "      <td>40.046024</td>\n",
       "      <td>-75.060111</td>\n",
       "      <td>3.0</td>\n",
       "      <td>27</td>\n",
       "      <td>Home &amp; Garden, Mattresses, Appliances, Compute...</td>\n",
       "      <td>{'BusinessAcceptsCreditCards': 'True', 'Restau...</td>\n",
       "      <td>Home &amp; Garden</td>\n",
       "      <td>Home &amp; Garden</td>\n",
       "    </tr>\n",
       "    <tr>\n",
       "      <th>327661</th>\n",
       "      <td>5-dALZnUy43LJM5d8SAeyw</td>\n",
       "      <td>gR6zPKYEI1OaEZH7Q0FFVg</td>\n",
       "      <td>Super convenient, good price, great job - I'm ...</td>\n",
       "      <td>0</td>\n",
       "      <td>5.0</td>\n",
       "      <td>2017-08-20 19:16:35+00:00</td>\n",
       "      <td>0</td>\n",
       "      <td>JeAqXFCO0P9wvcn53m1DMA</td>\n",
       "      <td>0</td>\n",
       "      <td>4.20</td>\n",
       "      <td>...</td>\n",
       "      <td>Santa Barbara &amp; Ventura Counties</td>\n",
       "      <td>CA</td>\n",
       "      <td>34.420832</td>\n",
       "      <td>-119.698206</td>\n",
       "      <td>3.5</td>\n",
       "      <td>38</td>\n",
       "      <td>Shades &amp; Blinds, Home Services</td>\n",
       "      <td>{'ByAppointmentOnly': 'True', 'BusinessAccepts...</td>\n",
       "      <td>Shades &amp; Blinds</td>\n",
       "      <td>Shades &amp; Blinds</td>\n",
       "    </tr>\n",
       "  </tbody>\n",
       "</table>\n",
       "<p>319059 rows × 23 columns</p>\n",
       "</div>"
      ],
      "text/plain": [
       "                       business_id                 user_id  \\\n",
       "Unnamed: 0                                                   \n",
       "0           ZeJjnl4o5sffMxPTt7h6ug  CNPZ2ZjDu-lNPKi6f5wEIA   \n",
       "1           Ccs-77XZCWf1aOozv6U-Ww  nJVAtTBB-25RiomzBB8bHw   \n",
       "2           FHdgpBT2Br7BL-V3gglIkA  zZOjl_mlBoqJN22dD5nbpQ   \n",
       "3           FHdgpBT2Br7BL-V3gglIkA  DWO5d7GJWB2Mmuv67yY_fQ   \n",
       "4           FHdgpBT2Br7BL-V3gglIkA  fJrZ-1B0ngdgM_2qQY_6BA   \n",
       "...                            ...                     ...   \n",
       "327657      HuoKX6R9VC5yn9xj-xUT8w  7ThsVyQniXAH0THHqQpLJw   \n",
       "327658      HuoKX6R9VC5yn9xj-xUT8w  YbgXTYO_87L1GzIrmHHoiQ   \n",
       "327659      r_kRUzLVOws0qdSXINGuQA  qvPylVHr8-0_hmjDl2iX4g   \n",
       "327660      XZGOTAmHF1fdOfXMES3kaA  yR6bO_X610KIJZm2i8uOiw   \n",
       "327661      5-dALZnUy43LJM5d8SAeyw  gR6zPKYEI1OaEZH7Q0FFVg   \n",
       "\n",
       "                                                         text  cool  stars  \\\n",
       "Unnamed: 0                                                                   \n",
       "0           I tried to give this company the benefit of th...     0    1.0   \n",
       "1           We ended up here through serendipity... White ...     0    5.0   \n",
       "2           Bouncers were actively enforcing CDC/ social d...     0    5.0   \n",
       "3           Its a place that I comfortable but I hate when...     0    2.0   \n",
       "4           Great food and great staff! There racks Mack b...     0    5.0   \n",
       "...                                                       ...   ...    ...   \n",
       "327657      Was there last night, great food all around.  ...     0    5.0   \n",
       "327658      Amazing food! A very cozy atmosphere. As good ...     0    5.0   \n",
       "327659      Came in for the Eagles game and had a wonderfu...     0    5.0   \n",
       "327660      I always shop here. The salespeople are honest...     0    5.0   \n",
       "327661      Super convenient, good price, great job - I'm ...     0    5.0   \n",
       "\n",
       "                                 date  funny               review_id  useful  \\\n",
       "Unnamed: 0                                                                     \n",
       "0           2015-09-09 15:02:48+00:00      0  Zs2sKoUKASUe_WsGpQuE8A       5   \n",
       "1           2017-11-18 19:59:59+00:00      0  Eju6FaSp93TC_g06mwwFzA       0   \n",
       "2           2020-06-27 04:51:22+00:00      0  ulSlOe8dnv8mjLvLtly8hQ       0   \n",
       "3           2016-01-08 22:35:17+00:00      0  dISAAuF9njJb6pT2J1ILuQ       0   \n",
       "4           2019-04-12 20:31:51+00:00      0  MlSZu7iI4pbCl7MY0eFXgA       0   \n",
       "...                               ...    ...                     ...     ...   \n",
       "327657      2013-08-23 00:28:20+00:00      0  9DWpXzU0wI0sJXmaqQWe9g       1   \n",
       "327658      2015-04-08 22:53:47+00:00      0  0ys_6YRgC5xrsU8bzQ2RdQ       0   \n",
       "327659      2018-10-28 17:12:19+00:00      0  EIhs_ZGmYcANgXvuTHC9Rw       0   \n",
       "327660      2019-08-05 20:01:46+00:00      0  e6_Ji3VFnxr6Jau-zG5vAA       0   \n",
       "327661      2017-08-20 19:16:35+00:00      0  JeAqXFCO0P9wvcn53m1DMA       0   \n",
       "\n",
       "            average_user_stars  ...                              city  state  \\\n",
       "Unnamed: 0                      ...                                            \n",
       "0                         2.20  ...                               kop     PA   \n",
       "1                         2.82  ...                              Atco     NJ   \n",
       "2                         3.67  ...                              Atco     NJ   \n",
       "3                         3.85  ...                              Atco     NJ   \n",
       "4                         3.67  ...                              Atco     NJ   \n",
       "...                        ...  ...                               ...    ...   \n",
       "327657                    5.00  ...         West Collingswood Heights     NJ   \n",
       "327658                    4.00  ...         West Collingswood Heights     NJ   \n",
       "327659                    5.00  ...        Lower Southampton Township     PA   \n",
       "327660                    4.07  ...   Philadelphia (Northeast Philly)     PA   \n",
       "327661                    4.20  ...  Santa Barbara & Ventura Counties     CA   \n",
       "\n",
       "             latitude   longitude average_business_stars  recieved_reviews  \\\n",
       "Unnamed: 0                                                                   \n",
       "0           40.102683  -75.355972                    2.0                70   \n",
       "1           39.738343  -74.886403                    4.5                53   \n",
       "2           39.772589  -74.900347                    3.0                58   \n",
       "3           39.772589  -74.900347                    3.0                58   \n",
       "4           39.772589  -74.900347                    3.0                58   \n",
       "...               ...         ...                    ...               ...   \n",
       "327657      39.892485  -75.091006                    3.5               121   \n",
       "327658      39.892485  -75.091006                    3.5               121   \n",
       "327659      40.148549  -75.022480                    4.0                18   \n",
       "327660      40.046024  -75.060111                    3.0                27   \n",
       "327661      34.420832 -119.698206                    3.5                38   \n",
       "\n",
       "                                                   categories  \\\n",
       "Unnamed: 0                                                      \n",
       "0                             Automotive, Auto Repair, Towing   \n",
       "1                        Food, Arts & Entertainment, Wineries   \n",
       "2           American (Traditional), Nightlife, Bars, Sport...   \n",
       "3           American (Traditional), Nightlife, Bars, Sport...   \n",
       "4           American (Traditional), Nightlife, Bars, Sport...   \n",
       "...                                                       ...   \n",
       "327657                            Italian, Pizza, Restaurants   \n",
       "327658                            Italian, Pizza, Restaurants   \n",
       "327659                                        Breweries, Food   \n",
       "327660      Home & Garden, Mattresses, Appliances, Compute...   \n",
       "327661                         Shades & Blinds, Home Services   \n",
       "\n",
       "                                                   attributes  \\\n",
       "Unnamed: 0                                                      \n",
       "0                     {'BusinessAcceptsCreditCards': 'False'}   \n",
       "1           {'GoodForKids': 'False', 'RestaurantsPriceRang...   \n",
       "2           {'Alcohol': \"u'full_bar'\", 'BusinessAcceptsCre...   \n",
       "3           {'Alcohol': \"u'full_bar'\", 'BusinessAcceptsCre...   \n",
       "4           {'Alcohol': \"u'full_bar'\", 'BusinessAcceptsCre...   \n",
       "...                                                       ...   \n",
       "327657      {'Alcohol': \"u'full_bar'\", 'RestaurantsPriceRa...   \n",
       "327658      {'Alcohol': \"u'full_bar'\", 'RestaurantsPriceRa...   \n",
       "327659      {'RestaurantsTakeOut': 'True', 'BusinessAccept...   \n",
       "327660      {'BusinessAcceptsCreditCards': 'True', 'Restau...   \n",
       "327661      {'ByAppointmentOnly': 'True', 'BusinessAccepts...   \n",
       "\n",
       "                          category    main_category  \n",
       "Unnamed: 0                                           \n",
       "0                       Automotive       Automotive  \n",
       "1                             Food      Restaurants  \n",
       "2           American (Traditional)      Restaurants  \n",
       "3           American (Traditional)      Restaurants  \n",
       "4           American (Traditional)      Restaurants  \n",
       "...                            ...              ...  \n",
       "327657                     Italian      Restaurants  \n",
       "327658                     Italian      Restaurants  \n",
       "327659                   Breweries             Bars  \n",
       "327660               Home & Garden    Home & Garden  \n",
       "327661             Shades & Blinds  Shades & Blinds  \n",
       "\n",
       "[319059 rows x 23 columns]"
      ]
     },
     "execution_count": 25,
     "metadata": {},
     "output_type": "execute_result"
    }
   ],
   "source": [
    "test_sample_dropped_na"
   ]
  },
  {
   "cell_type": "code",
   "execution_count": 26,
   "id": "fda79112",
   "metadata": {},
   "outputs": [
    {
     "data": {
      "text/plain": [
       "Restaurants                  191001\n",
       "Bars                          18710\n",
       "Beauty & Spas                 13588\n",
       "Nightlife                     10960\n",
       "Shopping                       9187\n",
       "Automotive                     7748\n",
       "Home Services                  6529\n",
       "Event Planning & Services      6105\n",
       "Arts & Entertainment           6093\n",
       "Hotels & Travel                5158\n",
       "Name: main_category, dtype: int64"
      ]
     },
     "execution_count": 26,
     "metadata": {},
     "output_type": "execute_result"
    }
   ],
   "source": [
    "category_counts = test_sample_dropped_na['main_category'].value_counts().head(10)\n",
    "category_counts"
   ]
  },
  {
   "cell_type": "code",
   "execution_count": 27,
   "id": "a0a4b1f3",
   "metadata": {},
   "outputs": [
    {
     "name": "stderr",
     "output_type": "stream",
     "text": [
      "/var/folders/bh/5l0x24tj2s55q5v7h7jfrhlw0000gn/T/ipykernel_4539/1791991364.py:1: SettingWithCopyWarning: \n",
      "A value is trying to be set on a copy of a slice from a DataFrame\n",
      "\n",
      "See the caveats in the documentation: https://pandas.pydata.org/pandas-docs/stable/user_guide/indexing.html#returning-a-view-versus-a-copy\n",
      "  test_sample_dropped_na.drop(columns = ['categories'], inplace = True)\n"
     ]
    }
   ],
   "source": [
    "test_sample_dropped_na.drop(columns = ['categories'], inplace = True)"
   ]
  },
  {
   "cell_type": "code",
   "execution_count": 28,
   "id": "4e5cd5a6",
   "metadata": {},
   "outputs": [
    {
     "data": {
      "text/plain": [
       "Unnamed: 0\n",
       "0                   {'BusinessAcceptsCreditCards': 'False'}\n",
       "1         {'GoodForKids': 'False', 'RestaurantsPriceRang...\n",
       "2         {'Alcohol': \"u'full_bar'\", 'BusinessAcceptsCre...\n",
       "3         {'Alcohol': \"u'full_bar'\", 'BusinessAcceptsCre...\n",
       "4         {'Alcohol': \"u'full_bar'\", 'BusinessAcceptsCre...\n",
       "                                ...                        \n",
       "327657    {'Alcohol': \"u'full_bar'\", 'RestaurantsPriceRa...\n",
       "327658    {'Alcohol': \"u'full_bar'\", 'RestaurantsPriceRa...\n",
       "327659    {'RestaurantsTakeOut': 'True', 'BusinessAccept...\n",
       "327660    {'BusinessAcceptsCreditCards': 'True', 'Restau...\n",
       "327661    {'ByAppointmentOnly': 'True', 'BusinessAccepts...\n",
       "Name: attributes, Length: 319059, dtype: object"
      ]
     },
     "execution_count": 28,
     "metadata": {},
     "output_type": "execute_result"
    }
   ],
   "source": [
    "test_sample_dropped_na['attributes']"
   ]
  },
  {
   "cell_type": "code",
   "execution_count": 29,
   "id": "0716992f",
   "metadata": {},
   "outputs": [
    {
     "name": "stdout",
     "output_type": "stream",
     "text": [
      "<class 'pandas.core.frame.DataFrame'>\n",
      "Int64Index: 319059 entries, 0 to 327661\n",
      "Data columns (total 22 columns):\n",
      " #   Column                  Non-Null Count   Dtype  \n",
      "---  ------                  --------------   -----  \n",
      " 0   business_id             319059 non-null  object \n",
      " 1   user_id                 319059 non-null  object \n",
      " 2   text                    319059 non-null  object \n",
      " 3   cool                    319059 non-null  int64  \n",
      " 4   stars                   319059 non-null  float64\n",
      " 5   date                    319059 non-null  object \n",
      " 6   funny                   319059 non-null  int64  \n",
      " 7   review_id               319059 non-null  object \n",
      " 8   useful                  319059 non-null  int64  \n",
      " 9   average_user_stars      319059 non-null  float64\n",
      " 10  yelping_since           319059 non-null  object \n",
      " 11  submitted_reviews       319059 non-null  float64\n",
      " 12  name                    319059 non-null  object \n",
      " 13  city                    319059 non-null  object \n",
      " 14  state                   319059 non-null  object \n",
      " 15  latitude                319059 non-null  float64\n",
      " 16  longitude               319059 non-null  float64\n",
      " 17  average_business_stars  319059 non-null  float64\n",
      " 18  recieved_reviews        319059 non-null  int64  \n",
      " 19  attributes              319059 non-null  object \n",
      " 20  category                319059 non-null  object \n",
      " 21  main_category           319059 non-null  object \n",
      "dtypes: float64(6), int64(4), object(12)\n",
      "memory usage: 56.0+ MB\n"
     ]
    }
   ],
   "source": [
    "test_sample_dropped_na.info()"
   ]
  },
  {
   "cell_type": "markdown",
   "id": "090d4bae",
   "metadata": {},
   "source": [
    "### WordCloud - Camila"
   ]
  },
  {
   "cell_type": "code",
   "execution_count": 30,
   "id": "191ccd22",
   "metadata": {},
   "outputs": [
    {
     "name": "stdout",
     "output_type": "stream",
     "text": [
      "Requirement already satisfied: wordcloud in /Users/camiladaza/anaconda3/lib/python3.11/site-packages (1.9.3)\n",
      "Requirement already satisfied: matplotlib in /Users/camiladaza/anaconda3/lib/python3.11/site-packages (3.7.1)\n",
      "Requirement already satisfied: numpy>=1.6.1 in /Users/camiladaza/anaconda3/lib/python3.11/site-packages (from wordcloud) (1.24.3)\n",
      "Requirement already satisfied: pillow in /Users/camiladaza/anaconda3/lib/python3.11/site-packages (from wordcloud) (9.4.0)\n",
      "Requirement already satisfied: contourpy>=1.0.1 in /Users/camiladaza/anaconda3/lib/python3.11/site-packages (from matplotlib) (1.0.5)\n",
      "Requirement already satisfied: cycler>=0.10 in /Users/camiladaza/anaconda3/lib/python3.11/site-packages (from matplotlib) (0.11.0)\n",
      "Requirement already satisfied: fonttools>=4.22.0 in /Users/camiladaza/anaconda3/lib/python3.11/site-packages (from matplotlib) (4.25.0)\n",
      "Requirement already satisfied: kiwisolver>=1.0.1 in /Users/camiladaza/anaconda3/lib/python3.11/site-packages (from matplotlib) (1.4.4)\n",
      "Requirement already satisfied: packaging>=20.0 in /Users/camiladaza/anaconda3/lib/python3.11/site-packages (from matplotlib) (23.0)\n",
      "Requirement already satisfied: pyparsing>=2.3.1 in /Users/camiladaza/anaconda3/lib/python3.11/site-packages (from matplotlib) (3.0.9)\n",
      "Requirement already satisfied: python-dateutil>=2.7 in /Users/camiladaza/anaconda3/lib/python3.11/site-packages (from matplotlib) (2.8.2)\n",
      "Requirement already satisfied: six>=1.5 in /Users/camiladaza/anaconda3/lib/python3.11/site-packages (from python-dateutil>=2.7->matplotlib) (1.16.0)\n",
      "Note: you may need to restart the kernel to use updated packages.\n"
     ]
    }
   ],
   "source": [
    "%pip install wordcloud matplotlib"
   ]
  },
  {
   "cell_type": "code",
   "execution_count": 33,
   "id": "b436959a",
   "metadata": {},
   "outputs": [],
   "source": [
    "from wordcloud import WordCloud\n",
    "import matplotlib.pyplot as plt"
   ]
  },
  {
   "cell_type": "code",
   "execution_count": 38,
   "id": "e87b21dd",
   "metadata": {},
   "outputs": [
    {
     "data": {
      "image/png": "[encoded data removed]",
      "text/plain": [
       "<Figure size 640x480 with 1 Axes>"
      ]
     },
     "metadata": {},
     "output_type": "display_data"
    }
   ],
   "source": [
    "# First, we filter the reviews based on the number of stars they've gotten to get a sense of positive vs negative reviews\n",
    "positive=test_sample_dropped_na[test_sample_dropped_na['stars']>=4]['text']\n",
    "reviews= ' '.join(review for review in positive)\n",
    "\n",
    "# Then, we generate the word cloud\n",
    "wordcloud= WordCloud(background_color='white',max_words=50, contour_color='blue')\n",
    "wordcloud.generate(reviews)\n",
    "\n",
    "plt.imshow(wordcloud, interpolation='bilinear')\n",
    "plt.axis('off')\n",
    "plt.show()\n",
    "\n",
    "#https://www.datacamp.com/tutorial/wordcloud-python"
   ]
  },
  {
   "cell_type": "markdown",
   "id": "a7c17815",
   "metadata": {},
   "source": [
    "Above, we can see a word cloud of the most frequent words in what we consider are positive reviews, meaning those with 4 stars and over. From the visualization we can see that some of these words include delicious and food, but they also include service, staff and time, which might indicate that these people value places where they enjoy the meals but also where they feel that they received a good service."
   ]
  },
  {
   "cell_type": "markdown",
   "id": "05869ae6",
   "metadata": {},
   "source": [
    "### Stars per category"
   ]
  },
  {
   "cell_type": "code",
   "execution_count": 57,
   "id": "d8389fb8",
   "metadata": {},
   "outputs": [
    {
     "data": {
      "text/plain": [
       "array(['Automotive', 'Restaurants', 'Active Life', 'Health & Medical',\n",
       "       'Comedy Clubs', 'Shopping', 'Beauty & Spas', 'Home Services',\n",
       "       'Mobile Phones', 'Emergency Rooms', 'Arts & Entertainment',\n",
       "       'Farmers Market', 'Nightlife', 'Local Services', 'Personal Chefs',\n",
       "       'Shipping Centers', 'Grocery', 'Coffee & Tea', 'Fences & Gates',\n",
       "       'Home & Garden', 'Yoga', 'Juice Bars & Smoothies',\n",
       "       'Flowers & Gifts', 'Pet Groomers', 'Bars', 'Trampoline Parks',\n",
       "       'Lawn Services', 'Event Photography',\n",
       "       'Lighting Fixtures & Equipment', 'Public Transportation',\n",
       "       'Professional Services', 'Session Photography', 'Tree Services',\n",
       "       'Beer Tours', 'Handyman', 'Radiologists', 'Septic Services',\n",
       "       'Bounce House Rentals', 'Auto Glass Services', 'Pets', 'Painters',\n",
       "       'Roadside Assistance', 'Hotels & Travel', 'Parks',\n",
       "       'Adult Entertainment', 'Irrigation', 'Auction Houses',\n",
       "       'Event Planning & Services', 'Glass & Mirrors', 'Lounges',\n",
       "       'Criminal Defense Law', 'Music Venues', 'Tattoo', 'Endodontists',\n",
       "       'Post Offices', 'Car Inspectors', 'Self Storage', 'Notaries',\n",
       "       'Baseball Fields', 'Casinos', 'Amusement Parks',\n",
       "       'Transmission Repair', 'Real Estate Services',\n",
       "       'Smog Check Stations', 'Dry Cleaning & Laundry', 'Gunsmith',\n",
       "       'Bocce Ball', 'Solar Installation', 'Keys & Locksmiths', 'Luggage',\n",
       "       'Airports', 'Toy Stores', 'Music & DVDs', 'Books', 'Axe Throwing',\n",
       "       'Musical Instruments & Teachers', 'Transportation',\n",
       "       'Airport Lounges', 'Police Departments', 'International Grocery',\n",
       "       'Education', 'Nurseries & Gardening', 'Vitamins & Supplements',\n",
       "       'Door Sales/Installation', 'Physical Therapy', 'Medical Spas',\n",
       "       'Well Drilling', 'Afghan', 'IT Services & Computer Repair',\n",
       "       'Specialty Schools', 'Cosmetology Schools', 'Towing', 'DJs',\n",
       "       'Mailbox Centers', 'Pediatricians', 'Traditional Chinese Medicine',\n",
       "       'Art Supplies', 'Used', 'Paintball', 'Pharmacy', 'Libraries',\n",
       "       'Lawyers', 'Swimwear', 'Skiing', 'Climbing', 'Gas Stations',\n",
       "       'Discount Store', 'Brazilian', 'Champagne Bars', 'Bikes',\n",
       "       'Irish Pub', 'Elementary Schools', 'Singaporean',\n",
       "       'Home Window Tinting', 'Banks & Credit Unions',\n",
       "       'University Housing', 'Bridal', 'Jewelry Repair', 'Electronics',\n",
       "       'Mobile Phone Repair', 'Leisure Centers', 'Pawn Shops',\n",
       "       'Bookstores', 'Mortgage Brokers', 'Urgent Care', 'Family Practice',\n",
       "       'Head Shops', 'Used Car Dealers', 'Cannabis Dispensaries',\n",
       "       'RV Dealers', 'Hookah Bars', 'Motorcycle Repair', 'Propane',\n",
       "       'Marketing', 'Boot Camps', 'Pediatric Dentists', 'Oral Surgeons',\n",
       "       'Gold Buyers', 'Hawaiian', 'Butcher', 'Gastroenterologist',\n",
       "       'Cantonese', 'Pet Boarding', 'Cannabis Clinics', 'Guns & Ammo',\n",
       "       'Windows Installation', 'Nail Technicians', 'Battery Stores',\n",
       "       'Photographers', 'Computers', 'Mobile Phone Accessories',\n",
       "       'Bowling', 'Tennis', 'Wedding Planning', 'Security Services',\n",
       "       'Vape Shops', 'Tiling', 'Alternative Medicine', 'Beer Gardens',\n",
       "       'DUI Law', 'Sports Wear', 'Social Clubs',\n",
       "       'Obstetricians & Gynecologists', 'Neurologist', 'Oncologist',\n",
       "       'IV Hydration', 'Martial Arts', 'Hair Extensions',\n",
       "       'Cycling Classes', 'Acai Bowls', 'Plastic Surgeons',\n",
       "       'Escape Games', 'Car Window Tinting', 'Imported Food',\n",
       "       'Food Stands', 'Taxis', 'Medical Supplies', 'Utilities',\n",
       "       'Patisserie/Cake Shop', 'Arabic', 'RV Parks', 'Boating',\n",
       "       'Baby Gear & Furniture', 'RV Repair', 'Pet Sitting',\n",
       "       'Pet Training', 'Flooring', 'Ethnic Grocery', 'Watch Repair',\n",
       "       'Brewpubs', 'Permanent Makeup', 'Acupuncture', 'Historical Tours',\n",
       "       'Fertility', 'Laser Eye Surgery/Lasik', 'Pressure Washers',\n",
       "       'Water Heater Installation/Repair', 'Sicilian', 'Russian',\n",
       "       'Roofing', 'Szechuan', 'Laundry Services', 'Ski & Snowboard Shops',\n",
       "       'Carpet Cleaning', 'Packing Supplies', 'Interval Training Gyms',\n",
       "       'Fishing', 'Karaoke', 'Generator Installation/Repair', 'Waffles',\n",
       "       'Botanical Gardens', 'Building Supplies', 'Orthotics',\n",
       "       'Amateur Sports Teams', 'Party Equipment Rentals', 'Cheese Shops',\n",
       "       'Plus Size Fashion', 'Street Vendors', 'Hats', 'Pool Halls',\n",
       "       'Argentine', 'Distilleries', 'Colombian', 'Structural Engineers',\n",
       "       'Dermatologists', 'Airport Shuttles', 'Threading Services',\n",
       "       'Sports Medicine', 'Race Tracks', 'Masonry/Concrete',\n",
       "       'Formal Wear', 'Chocolatiers & Shops',\n",
       "       'Videos & Video Game Rental', 'Signmaking', 'Modern European',\n",
       "       'Photography Stores & Services', 'Cosmetic Surgeons',\n",
       "       'Adult Education', 'Smokehouse', 'Meat Shops',\n",
       "       'Motorcycle Dealers', 'Religious Organizations', 'Wraps',\n",
       "       'Hospitals', 'African', 'Dry Cleaning', 'Antiques', 'Wineries',\n",
       "       'Office Cleaning', 'Blow Dry/Out Services', 'Shaved Ice',\n",
       "       'Financial Services', 'Sports Clubs', 'Organic Stores',\n",
       "       'Community Service/Non-Profit', 'Hardware Stores', 'Laotian',\n",
       "       'Wheel & Rim Repair', \"Children's Clothing\",\n",
       "       'Customized Merchandise', 'Rafting/Kayaking', 'Food Tours',\n",
       "       'Empanadas', 'Flea Markets', 'Airlines', 'Car Stereo Installation',\n",
       "       'Laser Tag', 'Lebanese', 'Laser Hair Removal', 'Gutter Services',\n",
       "       'Recycling Center', 'Boat Repair', 'Persian/Iranian',\n",
       "       'Condominiums', 'Meditation Centers', 'Party Supplies',\n",
       "       'Japanese Curry', 'Beaches', 'Watches', 'Electronics Repair',\n",
       "       'Food Court', 'Damage Restoration', 'Barre Classes',\n",
       "       'Candy Stores', 'Turkish', 'Kids Activities', 'Internet Cafes',\n",
       "       'Photo Booth Rentals', 'Officiants', 'Challenge Courses',\n",
       "       'Windshield Installation & Repair', 'Home Theatre Installation',\n",
       "       'Lingerie', 'Air Duct Cleaning', 'Paddleboarding',\n",
       "       'Travel Services', 'Shutters', 'Honduran', 'Nicaraguan',\n",
       "       'Horseback Riding', 'Truck Rental', 'Visitor Centers', 'Arcades',\n",
       "       'Hostels', 'Floral Designers', 'Garage Door Services',\n",
       "       'Auto Customization', 'Home Inspectors', 'Outdoor Gear',\n",
       "       'Donation Center', 'Ophthalmologists', 'Fireplace Services',\n",
       "       'Insurance', 'Knitting Supplies', 'Couriers & Delivery Services',\n",
       "       'Parking', 'Drywall Installation & Repair', 'Outlet Stores',\n",
       "       'Cultural Center', 'Telecommunications', 'Fish & Chips',\n",
       "       'Pet Adoption', 'Home Staging', 'Paint & Sip', 'Window Washing',\n",
       "       'Internal Medicine', 'Television Service Providers',\n",
       "       'Summer Camps', 'Themed Cafes', 'Limos', 'Gay Bars',\n",
       "       'Pool & Hot Tub Service', 'Speakeasies', 'Ear Nose & Throat',\n",
       "       'Skilled Nursing', 'Shanghainese', 'Swimming Pools',\n",
       "       'Public Services & Government', 'Furniture Reupholstery',\n",
       "       'Musical Instrument Services', 'Teppanyaki', 'Personal Shopping',\n",
       "       'Financial Advising', 'Internet Service Providers', 'Dog Walkers',\n",
       "       'Dog Parks', 'Grout Services', 'Comic Books', 'Cards & Stationery',\n",
       "       'Syrian', 'Auto Security', 'Polish', 'Guitar Stores',\n",
       "       'Bike Repair/Maintenance', 'Vacation Rentals', 'Gardeners',\n",
       "       'Pool & Billiards', 'Pretzels', 'Security Systems',\n",
       "       'Hot Tub & Pool', 'Cremation Services', 'Diagnostic Services',\n",
       "       'Hypnosis/Hypnotherapy', 'Auto Upholstery', 'Eyebrow Services',\n",
       "       'Boxing', 'Home Automation', 'Laundromat', 'Mongolian',\n",
       "       'Skating Rinks', 'Dive Shops', 'Siding', 'Souvenir Shops',\n",
       "       'Belgian', 'Himalayan/Nepalese', 'Landscape Architects',\n",
       "       'Farming Equipment', 'Clock Repair', 'Batting Cages', 'Preschools',\n",
       "       'Ziplining', 'Sugaring', 'Spray Tanning', 'Campgrounds', 'CSA',\n",
       "       'Service Stations', 'Laboratory Testing', 'Digitizing Services',\n",
       "       'Rehabilitation Center', 'Shades & Blinds', 'Donairs',\n",
       "       'Scandinavian', 'Opera & Ballet', 'Portuguese',\n",
       "       'Colleges & Universities', 'Bistros', 'Fondue', 'RV Rental',\n",
       "       'Tasting Classes', 'Aestheticians', 'Marinas', 'Billing Services',\n",
       "       'Trailer Repair', \"Children's Museums\", 'Diagnostic Imaging',\n",
       "       'Moroccan', 'Fitness/Exercise Equipment', 'Foundation Repair',\n",
       "       'Fabric Stores', 'Graphic Design', 'Psychics', 'Leather Goods',\n",
       "       'Herbs & Spices', 'Bed & Breakfast', 'Interior Design',\n",
       "       'Wine Tasting Room', 'Junk Removal & Hauling', 'Whiskey Bars',\n",
       "       'Funeral Services & Cemeteries', 'Art Schools',\n",
       "       'Newspapers & Magazines', 'Printing Services', 'Dance Studios',\n",
       "       'Mortgage Lenders', 'Water Parks', 'Sledding',\n",
       "       'Blood & Plasma Donation Centers', 'Burmese', 'Home Health Care',\n",
       "       'Podiatrists', 'Cabinetry', 'Filipino', 'Bus Tours',\n",
       "       'Office Equipment', 'Piano Bars', 'Brasseries', 'Cigar Bars',\n",
       "       'Saunas', 'Izakaya', 'Doulas', 'Luggage Storage',\n",
       "       'Carpet Installation', 'Art Museums', 'Aquariums', 'Uniforms',\n",
       "       'Kosher', 'Community Centers', 'Planetarium', 'Pop-up Shops',\n",
       "       'Ethical Grocery', 'Educational Services', 'Tiki Bars',\n",
       "       'Cardio Classes', 'Insulation Installation', 'Herbal Shops',\n",
       "       'Orthopedists', 'Boat Tours', 'Midwives', 'Boat Charters',\n",
       "       'Walk-in Clinics', 'Naturopathic/Holistic',\n",
       "       'Sheds & Outdoor Storage', 'Art Classes', 'Driving Schools',\n",
       "       'Brewing Supplies', 'Gun/Rifle Ranges', 'Team Building Activities',\n",
       "       'Weight Loss Centers', 'Recording & Rehearsal Studios',\n",
       "       'Trailer Dealers', 'Commercial Truck Repair',\n",
       "       'Water Purification Services', 'Osteopathic Physicians',\n",
       "       'Nutritionists', 'Public Markets', 'Ski Resorts',\n",
       "       'Vocational & Technical School', 'Real Estate Photography',\n",
       "       'Pool Cleaners', 'Advertising', 'Divorce & Family Law',\n",
       "       'Venezuelan', 'Estate Planning Law', 'Psychologists',\n",
       "       'Bespoke Clothing', 'Child Care & Day Care', 'Cryotherapy',\n",
       "       'Vinyl Records', 'Indoor Playcentre', 'Churches', 'Reiki',\n",
       "       'Holiday Decorations', 'Kombucha', 'Translation Services',\n",
       "       'Wallpapering', 'Waterproofing', 'Supernatural Readings',\n",
       "       'Wildlife Control', 'Motorsport Vehicle Repairs',\n",
       "       'Pumpkin Patches', 'Horse Boarding', 'Refinishing Services',\n",
       "       'Paint-Your-Own Pottery', 'Horse Racing', 'Tui Na', 'Mini Golf',\n",
       "       'Observatories', 'Golf Equipment', 'Adult', 'Estate Liquidation',\n",
       "       'Hydro-jetting', 'Retina Specialists', 'Diving', 'Engraving',\n",
       "       'Cooking Classes', 'Tattoo Removal', 'Estheticians',\n",
       "       'Payroll Services', 'Farms', 'Magicians', 'Public Adjusters',\n",
       "       'Do-It-Yourself Food', 'Indonesian', 'Taiwanese', 'Pan Asian',\n",
       "       'Gymnastics', 'Skate Shops', 'Metal Fabricators',\n",
       "       'Occupational Therapy', 'Firearm Training', 'Real Estate Law',\n",
       "       'Home Organization', 'Snow Removal', 'Restaurant Supplies',\n",
       "       'Animal Shelters', 'Skydiving', 'Carpenters', 'Video Game Stores',\n",
       "       'Counseling & Mental Health', 'Hot Air Balloons', 'Delicatessen',\n",
       "       'Shoe Shine', 'Pop-Up Restaurants', 'Bangladeshi', 'Egyptian',\n",
       "       'Go Karts', 'Malaysian', 'Investing', 'Haunted Houses',\n",
       "       'Data Recovery', 'Video/Film Production', 'Free Diving', 'Framing',\n",
       "       'Web Design', 'Hungarian', 'Vehicle Wraps', 'Childbirth Education',\n",
       "       'Taxidermy', 'Swimming Lessons/Schools', 'Archery',\n",
       "       'Valet Services', 'General Litigation', 'Business Law',\n",
       "       'Piano Services', 'Coffeeshops', 'Shared Office Spaces', 'Surfing',\n",
       "       'Scuba Diving', 'Outdoor Furniture Stores', 'Costumes', 'Lakes',\n",
       "       'Livestock Feed & Supply', 'Henna Artists', 'Videographers',\n",
       "       'Used Bookstore', 'Candle Stores', 'Employment Agencies',\n",
       "       'Backflow Services', 'Town Car Service', 'Petting Zoos', 'Ranches',\n",
       "       'Assisted Living Facilities', 'Home & Rental Insurance',\n",
       "       'Firewood', 'Carpet Dyeing', 'Beverage Store',\n",
       "       'Middle Schools & High Schools', 'Boat Dealers',\n",
       "       'Racing Experience', 'Aquarium Services', 'Tanning Beds',\n",
       "       'Cardiologists', 'Christmas Trees', 'Urologists', 'TV Mounting',\n",
       "       'Life Coach', 'Car Share Services', 'Religious Items',\n",
       "       'Special Education', 'Boudoir Photography', 'Guest Houses',\n",
       "       'Spiritual Shop', 'Popcorn Shops', 'Attraction Farms',\n",
       "       'Strip Clubs', 'Disc Golf', 'Haitian', 'Caricatures',\n",
       "       'Wedding Chapels', 'Mobility Equipment Sales & Services',\n",
       "       'Dance Schools', 'Architects', 'Personal Injury Law',\n",
       "       'Bartending Schools', 'Knife Sharpening', 'Ticket Sales',\n",
       "       'Skate Parks', 'Car Auctions', 'Public Relations',\n",
       "       'High Fidelity Audio Equipment', 'Osteopaths', 'Cideries',\n",
       "       'Appraisal Services', 'Career Counseling', 'Races & Competitions',\n",
       "       'Cooking Schools', 'Hainan', 'Screen Printing',\n",
       "       'Virtual Reality Centers', 'Macarons', 'Iberian', 'Uzbek',\n",
       "       'Cambodian', 'Hotel bar', 'Rock Climbing', 'Pilates',\n",
       "       'Safe Stores', 'Registration Services', 'Trinidadian',\n",
       "       'Kids Hair Salons', 'Sport Equipment Hire', 'Party Bus Rentals',\n",
       "       'Courthouses', 'Whale Watching Tours', 'Tuscan',\n",
       "       'Brazilian Jiu-jitsu', 'Wine Tours', 'Colonics', 'Jet Skis',\n",
       "       'Emergency Pet Hospital', 'Scooter Tours', 'Motorcycle Gear',\n",
       "       'Sex Therapists', 'Surf Shop', 'Tai Chi', 'Fireworks',\n",
       "       'Vehicle Shipping', 'Carousels', 'Cabaret', 'Walking Tours',\n",
       "       'Employment Law', 'Car Brokers', 'Car Buyers', 'Psychiatrists',\n",
       "       'Bartenders', 'Stucco Services', 'Environmental Testing',\n",
       "       'Furniture Assembly', 'Bookbinding', 'Circuit Training Gyms',\n",
       "       'Business Consulting', 'Teeth Whitening', 'Auto Insurance',\n",
       "       'Trivia Hosts', 'Hair Loss Centers', 'Oriental', 'Print Media',\n",
       "       'Hydrotherapy', 'Acne Treatment', 'Rheumatologists', 'Olive Oil',\n",
       "       'Nurse Practitioner', 'Pick Your Own Farms', 'Retirement Homes',\n",
       "       'Wildlife Hunting Ranges', 'Clothing Rental',\n",
       "       'Self-defense Classes', 'Water Delivery', 'Musicians',\n",
       "       'Housing Cooperatives', 'Beach Equipment Rentals',\n",
       "       'Embroidery & Crochet', 'Bird Shops', 'Life Insurance',\n",
       "       'Prenatal/Perinatal Care', 'Pet Breeders', 'Fingerprinting',\n",
       "       'Endocrinologists', 'Rolfing', 'Pet Transportation',\n",
       "       'Sleep Specialists', 'Process Servers', 'Balloon Services',\n",
       "       'Maternity Wear', 'Health Coach', 'House Sitters', 'Travel Agents',\n",
       "       'Lactation Services', 'Country Dance Halls',\n",
       "       'Pet Cremation Services', 'Georgian', 'Face Painting',\n",
       "       'Hearing Aid Providers', 'Speech Therapists', 'Lighting Stores',\n",
       "       'Religious Schools', 'Soccer', 'Demolition Services',\n",
       "       'Poutineries', 'Bar Crawl', 'Machine Shops', 'Private Tutors',\n",
       "       'International', 'Karate', 'Chinese Martial Arts', 'Bike Parking',\n",
       "       'Nanny Services', 'Personal Assistants', 'Shredding Services',\n",
       "       'Vermouth Bars', 'Eatertainment', 'Wills', 'Emergency Medicine',\n",
       "       'Dumpster Rental', 'Flowers', 'Medical Law', 'Furniture Repair',\n",
       "       'Bail Bondsmen', 'Dental Hygienists', 'Health Insurance Offices',\n",
       "       'Clowns', 'Massage Schools', 'Sandblasting', 'Squash',\n",
       "       'Elevator Services', 'Train Stations', 'Dietitians',\n",
       "       'Mobile Home Dealers', 'Accountants', 'Surf Schools',\n",
       "       'Vacation Rental Agents', 'Grill Services', 'Paint Stores',\n",
       "       'Excavation Services', 'Editorial Services', 'Radio Stations',\n",
       "       'Ukrainian', 'Environmental Abatement', 'Teacher Supplies',\n",
       "       'Nephrologists', 'Tax Services', 'ATV Rentals/Tours',\n",
       "       'Concierge Medicine', 'Sailing'], dtype=object)"
      ]
     },
     "execution_count": 57,
     "metadata": {},
     "output_type": "execute_result"
    }
   ],
   "source": [
    "sample['main_category'].unique()"
   ]
  },
  {
   "cell_type": "code",
   "execution_count": 62,
   "id": "4a75ca05",
   "metadata": {},
   "outputs": [
    {
     "data": {
      "text/plain": [
       "764"
      ]
     },
     "execution_count": 62,
     "metadata": {},
     "output_type": "execute_result"
    }
   ],
   "source": [
    "sample['main_category'].nunique()"
   ]
  },
  {
   "cell_type": "code",
   "execution_count": 63,
   "id": "009b5daa",
   "metadata": {},
   "outputs": [],
   "source": [
    "# converted stars and categories to numeric to be able to plot results\n",
    "sample=test_sample_dropped_na.copy()\n",
    "sample['stars'] = pd.to_numeric(sample['stars'], errors='coerce')\n",
    "sample['main_category'] = sample['main_category'].astype(str) \n",
    "avg_stars= sample.groupby('main_category')['stars'].mean().reset_index()\n",
    "\n",
    "# sorted to show top 10 highest rated categories\n",
    "top10= avg_stars.sort_values(by='stars', ascending=False).head(10)"
   ]
  },
  {
   "cell_type": "code",
   "execution_count": 67,
   "id": "f7b53d2b",
   "metadata": {},
   "outputs": [
    {
     "data": {
      "image/png": "[encoded data removed]",
      "text/plain": [
       "<Figure size 640x480 with 1 Axes>"
      ]
     },
     "metadata": {},
     "output_type": "display_data"
    }
   ],
   "source": [
    "# plot\n",
    "plt.barh(top_categories['main_category'], top_categories['stars'], color='green')\n",
    "plt.xlabel('Average Stars')\n",
    "plt.ylabel('Category')\n",
    "plt.title('Top 10 Rated Categories')\n",
    "plt.show()"
   ]
  },
  {
   "cell_type": "markdown",
   "id": "d5fe472c",
   "metadata": {},
   "source": [
    "The bar graph above shows the mean stars that the top 10 rated main categories have received. We can see that the most popular ones seem to be aestheticians, accountants and ATV rentals/tours."
   ]
  }
 ],
 "metadata": {
  "kernelspec": {
   "display_name": "Python 3",
   "language": "python",
   "name": "python3"
  },
  "language_info": {
   "codemirror_mode": {
    "name": "ipython",
    "version": 3
   },
   "file_extension": ".py",
   "mimetype": "text/x-python",
   "name": "python",
   "nbconvert_exporter": "python",
   "pygments_lexer": "ipython3",
   "version": "3.11.4"
  }
 },
 "nbformat": 4,
 "nbformat_minor": 5
}
