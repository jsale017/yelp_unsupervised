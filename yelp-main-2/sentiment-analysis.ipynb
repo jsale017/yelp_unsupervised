{
 "cells": [
  {
   "cell_type": "code",
   "execution_count": 21,
   "id": "c372dd47c66e2751",
   "metadata": {
    "collapsed": true,
    "ExecuteTime": {
     "end_time": "2024-03-03T02:07:58.577632Z",
     "start_time": "2024-03-03T02:07:02.464087Z"
    }
   },
   "outputs": [
    {
     "name": "stdout",
     "output_type": "stream",
     "text": [
      "[==================================================] 100.0% 66.0/66.0MB downloaded\n"
     ]
    }
   ],
   "source": [
    "import gensim.downloader as api\n",
    "from gensim.models import Word2Vec \n",
    "import numpy as np\n",
    "import pandas as pd\n",
    "\n",
    "tokens = np.load('tokenized.npy', allow_pickle=True)\n",
    "token_df = pd.DataFrame(tokens, columns=['review'])\n",
    "\n",
    "# w2v = Word2Vec(sentences=tokens).wv\n",
    "w2v = api.load('glove-wiki-gigaword-50')"
   ]
  },
  {
   "cell_type": "code",
   "execution_count": 22,
   "outputs": [],
   "source": [
    "#Sp\n",
    "positive = ['excellent', 'amazing', 'fantastic', 'wonderful', 'delightful', 'superb', 'incredible', 'outstanding', 'terrific', 'awesome', \n",
    "            'good', 'great', 'lovely', 'pleasant', 'enjoyable', 'satisfying', 'impressive', 'favorable', 'positive', 'pleasant', 'perfect']\n",
    "\n",
    "#Sn\n",
    "negative = ['terrible', 'awful', 'horrible', 'dreadful', 'abysmal', 'appalling', 'atrocious', 'disgusting', 'revolting', 'abominable', 'bad', 'poor', \n",
    "            'unpleasant', 'unsatisfactory', 'disappointing', 'unfavorable', 'negative', 'unenjoyable', 'dissatisfied', 'displeasing']"
   ],
   "metadata": {
    "collapsed": false,
    "ExecuteTime": {
     "end_time": "2024-03-03T02:09:54.713991Z",
     "start_time": "2024-03-03T02:09:54.707255Z"
    }
   },
   "id": "initial_id"
  },
  {
   "cell_type": "code",
   "execution_count": 26,
   "outputs": [],
   "source": [
    "def sentiment(review):\n",
    "    if len(review) > 0:\n",
    "        return w2v.n_similarity(review, positive) - w2v.n_similarity(review, negative)\n",
    "    else:\n",
    "        return 0"
   ],
   "metadata": {
    "collapsed": false,
    "ExecuteTime": {
     "end_time": "2024-03-03T02:10:37.440392Z",
     "start_time": "2024-03-03T02:10:37.421613Z"
    }
   },
   "id": "7268b805792f6c99"
  },
  {
   "cell_type": "code",
   "execution_count": 24,
   "outputs": [
    {
     "data": {
      "text/plain": "                                                review\n0    [tried, give, company, benefit, doubt, read, r...\n1    [ended, serendipity, white, horse, also, amazi...\n2    [bouncer, actively, enforcing, cdc, social, di...\n3    [place, comfortable, hate, nacho, melted, ched...\n4    [great, food, great, staff, rack, mack, burger...\n..                                                 ...\n495  [large, bucket, ball, crazy, also, took, prize...\n496  [im, still, patiently, waiting, someone, reach...\n497  [briscola, treated, well, year, coming, gsr, i...\n498  [going, every, time, stay, grand, sierra, reso...\n499  [arrived, ncva, volleyball, tournament, hotel,...\n\n[500 rows x 1 columns]",
      "text/html": "<div>\n<style scoped>\n    .dataframe tbody tr th:only-of-type {\n        vertical-align: middle;\n    }\n\n    .dataframe tbody tr th {\n        vertical-align: top;\n    }\n\n    .dataframe thead th {\n        text-align: right;\n    }\n</style>\n<table border=\"1\" class=\"dataframe\">\n  <thead>\n    <tr style=\"text-align: right;\">\n      <th></th>\n      <th>review</th>\n    </tr>\n  </thead>\n  <tbody>\n    <tr>\n      <th>0</th>\n      <td>[tried, give, company, benefit, doubt, read, r...</td>\n    </tr>\n    <tr>\n      <th>1</th>\n      <td>[ended, serendipity, white, horse, also, amazi...</td>\n    </tr>\n    <tr>\n      <th>2</th>\n      <td>[bouncer, actively, enforcing, cdc, social, di...</td>\n    </tr>\n    <tr>\n      <th>3</th>\n      <td>[place, comfortable, hate, nacho, melted, ched...</td>\n    </tr>\n    <tr>\n      <th>4</th>\n      <td>[great, food, great, staff, rack, mack, burger...</td>\n    </tr>\n    <tr>\n      <th>...</th>\n      <td>...</td>\n    </tr>\n    <tr>\n      <th>495</th>\n      <td>[large, bucket, ball, crazy, also, took, prize...</td>\n    </tr>\n    <tr>\n      <th>496</th>\n      <td>[im, still, patiently, waiting, someone, reach...</td>\n    </tr>\n    <tr>\n      <th>497</th>\n      <td>[briscola, treated, well, year, coming, gsr, i...</td>\n    </tr>\n    <tr>\n      <th>498</th>\n      <td>[going, every, time, stay, grand, sierra, reso...</td>\n    </tr>\n    <tr>\n      <th>499</th>\n      <td>[arrived, ncva, volleyball, tournament, hotel,...</td>\n    </tr>\n  </tbody>\n</table>\n<p>500 rows × 1 columns</p>\n</div>"
     },
     "execution_count": 24,
     "metadata": {},
     "output_type": "execute_result"
    }
   ],
   "source": [
    "token_df.head(500)"
   ],
   "metadata": {
    "collapsed": false,
    "ExecuteTime": {
     "end_time": "2024-03-03T02:09:55.937914Z",
     "start_time": "2024-03-03T02:09:55.925649Z"
    }
   },
   "id": "9a4ce574c8b09799"
  },
  {
   "cell_type": "code",
   "execution_count": 27,
   "outputs": [],
   "source": [
    "token_df['sentiment'] = token_df['review'].apply(lambda review: sentiment(review))"
   ],
   "metadata": {
    "collapsed": false,
    "ExecuteTime": {
     "end_time": "2024-03-03T02:14:21.093896Z",
     "start_time": "2024-03-03T02:10:41.354014Z"
    }
   },
   "id": "44cdd9bf639a6f9a"
  },
  {
   "cell_type": "code",
   "execution_count": 28,
   "outputs": [
    {
     "data": {
      "text/plain": "                                              review  sentiment\n0  [tried, give, company, benefit, doubt, read, r...   0.242703\n1  [ended, serendipity, white, horse, also, amazi...   0.324215\n2  [bouncer, actively, enforcing, cdc, social, di...   0.184383\n3  [place, comfortable, hate, nacho, melted, ched...   0.134130\n4  [great, food, great, staff, rack, mack, burger...   0.418598",
      "text/html": "<div>\n<style scoped>\n    .dataframe tbody tr th:only-of-type {\n        vertical-align: middle;\n    }\n\n    .dataframe tbody tr th {\n        vertical-align: top;\n    }\n\n    .dataframe thead th {\n        text-align: right;\n    }\n</style>\n<table border=\"1\" class=\"dataframe\">\n  <thead>\n    <tr style=\"text-align: right;\">\n      <th></th>\n      <th>review</th>\n      <th>sentiment</th>\n    </tr>\n  </thead>\n  <tbody>\n    <tr>\n      <th>0</th>\n      <td>[tried, give, company, benefit, doubt, read, r...</td>\n      <td>0.242703</td>\n    </tr>\n    <tr>\n      <th>1</th>\n      <td>[ended, serendipity, white, horse, also, amazi...</td>\n      <td>0.324215</td>\n    </tr>\n    <tr>\n      <th>2</th>\n      <td>[bouncer, actively, enforcing, cdc, social, di...</td>\n      <td>0.184383</td>\n    </tr>\n    <tr>\n      <th>3</th>\n      <td>[place, comfortable, hate, nacho, melted, ched...</td>\n      <td>0.134130</td>\n    </tr>\n    <tr>\n      <th>4</th>\n      <td>[great, food, great, staff, rack, mack, burger...</td>\n      <td>0.418598</td>\n    </tr>\n  </tbody>\n</table>\n</div>"
     },
     "execution_count": 28,
     "metadata": {},
     "output_type": "execute_result"
    }
   ],
   "source": [
    "token_df.head()"
   ],
   "metadata": {
    "collapsed": false,
    "ExecuteTime": {
     "end_time": "2024-03-03T02:14:36.160925Z",
     "start_time": "2024-03-03T02:14:36.128164Z"
    }
   },
   "id": "a1076441ce45a573"
  },
  {
   "cell_type": "code",
   "execution_count": 33,
   "outputs": [
    {
     "data": {
      "text/plain": "<Axes: xlabel='sentiment', ylabel='Count'>"
     },
     "execution_count": 33,
     "metadata": {},
     "output_type": "execute_result"
    },
    {
     "data": {
      "text/plain": "<Figure size 640x480 with 1 Axes>",
      "image/png": "[encoded data removed]"
     },
     "metadata": {},
     "output_type": "display_data"
    }
   ],
   "source": [
    "import seaborn as sns\n",
    "\n",
    "sns.histplot(data=token_df, x='sentiment', bins=50)"
   ],
   "metadata": {
    "collapsed": false,
    "ExecuteTime": {
     "end_time": "2024-03-03T02:23:48.304025Z",
     "start_time": "2024-03-03T02:23:47.559811Z"
    }
   },
   "id": "cf8092b3361c18bb"
  },
  {
   "cell_type": "code",
   "execution_count": 34,
   "outputs": [],
   "source": [
    "token_df['sentiment'].to_csv('./data/sentiments.csv')"
   ],
   "metadata": {
    "collapsed": false,
    "ExecuteTime": {
     "end_time": "2024-03-03T02:32:12.942447Z",
     "start_time": "2024-03-03T02:32:11.994852Z"
    }
   },
   "id": "2f709a77be49d286"
  },
  {
   "cell_type": "code",
   "execution_count": null,
   "outputs": [],
   "source": [],
   "metadata": {
    "collapsed": false
   },
   "id": "8d989a41f7ef098e"
  }
 ],
 "metadata": {
  "kernelspec": {
   "display_name": "Python 3",
   "language": "python",
   "name": "python3"
  },
  "language_info": {
   "codemirror_mode": {
    "name": "ipython",
    "version": 2
   },
   "file_extension": ".py",
   "mimetype": "text/x-python",
   "name": "python",
   "nbconvert_exporter": "python",
   "pygments_lexer": "ipython2",
   "version": "2.7.6"
  }
 },
 "nbformat": 4,
 "nbformat_minor": 5
}
