{
 "cells": [
  {
   "cell_type": "code",
   "execution_count": null,
   "metadata": {},
   "outputs": [],
   "source": [
    "import pandas as pd\n",
    "from sklearn.cluster import KMeans\n",
    "import matplotlib.pyplot as plt\n",
    "from tqdm import tqdm\n",
    "from sklearn.preprocessing import StandardScaler\n",
    "from sklearn.decomposition import PCA\n",
    "import plotly.express as px\n",
    "import numpy as np\n",
    "from sklearn.preprocessing import OneHotEncoder"
   ]
  },
  {
   "cell_type": "markdown",
   "metadata": {},
   "source": [
    "## Preprocessing for Cluster Analysis\n",
    "First, the team created a subset of the necessary data which included sentiment analysis scores and restaurant category. "
   ]
  },
  {
   "cell_type": "code",
   "execution_count": 9,
   "metadata": {},
   "outputs": [],
   "source": [
    "sentiment = pd.read_csv('data/sentiments.csv')\n",
    "clean_sample = pd.read_csv('data/clean-sample.csv')"
   ]
  },
  {
   "cell_type": "code",
   "execution_count": 42,
   "metadata": {},
   "outputs": [],
   "source": [
    "# Join the sentiment and clean_samlpe datasets on 'Unnamed: 0' column\n",
    "category_sentiment = pd.merge(clean_sample[['Unnamed: 0', 'general_category']], sentiment[['Unnamed: 0', 'sentiment']], on='Unnamed: 0')\n",
    "\n",
    "# Drop 'Unamed: 0' column\n",
    "category_sentiment.drop(columns=['Unnamed: 0'], inplace=True)"
   ]
  },
  {
   "cell_type": "markdown",
   "metadata": {},
   "source": [
    "Since, general_category is a categorical column, we then one-hot encoded it."
   ]
  },
  {
   "cell_type": "code",
   "execution_count": 30,
   "metadata": {},
   "outputs": [
    {
     "name": "stderr",
     "output_type": "stream",
     "text": [
      "c:\\Users\\sofia\\OneDrive\\Documents\\Anaconda\\Lib\\site-packages\\sklearn\\preprocessing\\_encoders.py:972: FutureWarning: `sparse` was renamed to `sparse_output` in version 1.2 and will be removed in 1.4. `sparse_output` is ignored unless you leave `sparse` to its default value.\n",
      "  warnings.warn(\n"
     ]
    }
   ],
   "source": [
    "# One-hot encode 'general_category' categorical column while preserving column names\n",
    "onehot_encoded = OneHotEncoder(sparse=False, categories='auto').fit_transform(category_sentiment[['general_category']])\n",
    "column_names = [f'{col}_{val}' for val in OneHotEncoder(sparse=False, categories='auto').categories_[0] for col in ['general_category']]    # Sourced: ChatGPT\n",
    "\n",
    "# Create DataFrame from one-hot encoded columns with original 'general_category' names\n",
    "category_encoded = pd.DataFrame(onehot_encoded, columns=column_names, index=category_sentiment.index)\n",
    "\n",
    "# Join the sentiment and clean_samlpe category_encoded\n",
    "category_sentiment_encoded = pd.concat([category_sentiment.drop(columns=['general_category']), category_encoded], axis=1)"
   ]
  },
  {
   "cell_type": "markdown",
   "metadata": {},
   "source": [
    "Then, we performed an Elbow plot to understand how many clusters would be optimal when running the K-means analysis."
   ]
  },
  {
   "cell_type": "code",
   "execution_count": 38,
   "metadata": {},
   "outputs": [
    {
     "name": "stderr",
     "output_type": "stream",
     "text": [
      "  0%|          | 0/9 [00:00<?, ?it/s]c:\\Users\\sofia\\OneDrive\\Documents\\Anaconda\\Lib\\site-packages\\sklearn\\cluster\\_kmeans.py:1412: FutureWarning: The default value of `n_init` will change from 10 to 'auto' in 1.4. Set the value of `n_init` explicitly to suppress the warning\n",
      "  super()._check_params_vs_input(X, default_n_init=10)\n",
      " 11%|█         | 1/9 [00:00<00:06,  1.24it/s]c:\\Users\\sofia\\OneDrive\\Documents\\Anaconda\\Lib\\site-packages\\sklearn\\cluster\\_kmeans.py:1412: FutureWarning: The default value of `n_init` will change from 10 to 'auto' in 1.4. Set the value of `n_init` explicitly to suppress the warning\n",
      "  super()._check_params_vs_input(X, default_n_init=10)\n",
      " 22%|██▏       | 2/9 [00:01<00:06,  1.13it/s]c:\\Users\\sofia\\OneDrive\\Documents\\Anaconda\\Lib\\site-packages\\sklearn\\cluster\\_kmeans.py:1412: FutureWarning: The default value of `n_init` will change from 10 to 'auto' in 1.4. Set the value of `n_init` explicitly to suppress the warning\n",
      "  super()._check_params_vs_input(X, default_n_init=10)\n",
      " 33%|███▎      | 3/9 [00:02<00:06,  1.01s/it]c:\\Users\\sofia\\OneDrive\\Documents\\Anaconda\\Lib\\site-packages\\sklearn\\cluster\\_kmeans.py:1412: FutureWarning: The default value of `n_init` will change from 10 to 'auto' in 1.4. Set the value of `n_init` explicitly to suppress the warning\n",
      "  super()._check_params_vs_input(X, default_n_init=10)\n",
      " 44%|████▍     | 4/9 [00:04<00:05,  1.12s/it]c:\\Users\\sofia\\OneDrive\\Documents\\Anaconda\\Lib\\site-packages\\sklearn\\cluster\\_kmeans.py:1412: FutureWarning: The default value of `n_init` will change from 10 to 'auto' in 1.4. Set the value of `n_init` explicitly to suppress the warning\n",
      "  super()._check_params_vs_input(X, default_n_init=10)\n",
      " 56%|█████▌    | 5/9 [00:05<00:04,  1.23s/it]c:\\Users\\sofia\\OneDrive\\Documents\\Anaconda\\Lib\\site-packages\\sklearn\\cluster\\_kmeans.py:1412: FutureWarning: The default value of `n_init` will change from 10 to 'auto' in 1.4. Set the value of `n_init` explicitly to suppress the warning\n",
      "  super()._check_params_vs_input(X, default_n_init=10)\n",
      " 67%|██████▋   | 6/9 [00:07<00:03,  1.32s/it]c:\\Users\\sofia\\OneDrive\\Documents\\Anaconda\\Lib\\site-packages\\sklearn\\cluster\\_kmeans.py:1412: FutureWarning: The default value of `n_init` will change from 10 to 'auto' in 1.4. Set the value of `n_init` explicitly to suppress the warning\n",
      "  super()._check_params_vs_input(X, default_n_init=10)\n",
      " 78%|███████▊  | 7/9 [00:08<00:02,  1.47s/it]c:\\Users\\sofia\\OneDrive\\Documents\\Anaconda\\Lib\\site-packages\\sklearn\\cluster\\_kmeans.py:1412: FutureWarning: The default value of `n_init` will change from 10 to 'auto' in 1.4. Set the value of `n_init` explicitly to suppress the warning\n",
      "  super()._check_params_vs_input(X, default_n_init=10)\n",
      " 89%|████████▉ | 8/9 [00:10<00:01,  1.61s/it]c:\\Users\\sofia\\OneDrive\\Documents\\Anaconda\\Lib\\site-packages\\sklearn\\cluster\\_kmeans.py:1412: FutureWarning: The default value of `n_init` will change from 10 to 'auto' in 1.4. Set the value of `n_init` explicitly to suppress the warning\n",
      "  super()._check_params_vs_input(X, default_n_init=10)\n",
      "100%|██████████| 9/9 [00:12<00:00,  1.42s/it]\n"
     ]
    },
    {
     "data": {
      "image/png": "[encoded data removed]",
      "text/plain": [
       "<Figure size 640x480 with 1 Axes>"
      ]
     },
     "metadata": {},
     "output_type": "display_data"
    }
   ],
   "source": [
    "# Elbow plot\n",
    "\n",
    "inertias = []\n",
    "ks = range(2, 11)\n",
    "\n",
    "for k_ in tqdm(ks):\n",
    "  kmeans_result = (KMeans(n_clusters=k_, random_state = 88).fit(category_sentiment_encoded))\n",
    "  inertias.append(kmeans_result.inertia_)\n",
    "\n",
    "plt.plot(ks, inertias, label = 'inertia')\n",
    "plt.xticks(ks)\n",
    "plt.title('Elbow Method')\n",
    "plt.show()"
   ]
  },
  {
   "cell_type": "markdown",
   "metadata": {},
   "source": [
    "When looking at the chart, it was evident that 4 clusters would be best. Therefore, the team proceeded to standardize the data."
   ]
  },
  {
   "cell_type": "code",
   "execution_count": 35,
   "metadata": {},
   "outputs": [],
   "source": [
    "# Standardize data\n",
    "sc = StandardScaler()\n",
    "scaled_category_sentiment = pd.DataFrame(sc.fit_transform(category_sentiment_encoded), columns=category_sentiment_encoded.columns)"
   ]
  },
  {
   "cell_type": "markdown",
   "metadata": {},
   "source": [
    "## Clustering Steps\n",
    "We then proceeded to perform the K-means cluster analysis and assigned each point to its cluster by creating a 'cluster_labels' column."
   ]
  },
  {
   "cell_type": "code",
   "execution_count": 37,
   "metadata": {},
   "outputs": [
    {
     "name": "stderr",
     "output_type": "stream",
     "text": [
      "c:\\Users\\sofia\\OneDrive\\Documents\\Anaconda\\Lib\\site-packages\\sklearn\\cluster\\_kmeans.py:1412: FutureWarning: The default value of `n_init` will change from 10 to 'auto' in 1.4. Set the value of `n_init` explicitly to suppress the warning\n",
      "  super()._check_params_vs_input(X, default_n_init=10)\n"
     ]
    },
    {
     "name": "stdout",
     "output_type": "stream",
     "text": [
      "1    135541\n",
      "2     92258\n",
      "3     52104\n",
      "0     30190\n",
      "Name: cluster_labels, dtype: int64\n"
     ]
    }
   ],
   "source": [
    "# K Means Clustering\n",
    "num_cluster = 4\n",
    "kmeans_result = KMeans(num_cluster, init='random').fit(scaled_category_sentiment)\n",
    "\n",
    "# Assign each point to its cluster\n",
    "scaled_category_sentiment['cluster_labels'] = kmeans_result.labels_\n",
    "\n",
    "# View how many data points are in each label\n",
    "print(scaled_category_sentiment['cluster_labels'].value_counts())"
   ]
  },
  {
   "cell_type": "markdown",
   "metadata": {},
   "source": [
    "Next, we explored the average metrics accross cluster to understand them better."
   ]
  },
  {
   "cell_type": "code",
   "execution_count": 40,
   "metadata": {},
   "outputs": [
    {
     "name": "stdout",
     "output_type": "stream",
     "text": [
      "                sentiment  general_category_Auto  general_category_Bars  \\\n",
      "cluster_labels                                                            \n",
      "0                0.003619              -0.141608               3.044894   \n",
      "1                0.000940              -0.141608              -0.328419   \n",
      "2               -0.002035              -0.141608              -0.328419   \n",
      "3               -0.000939               0.701161              -0.328419   \n",
      "\n",
      "                general_category_Beauty  general_category_Coffee_Tea  \\\n",
      "cluster_labels                                                         \n",
      "0                             -0.220558                    -0.041572   \n",
      "1                             -0.220558                    -0.041572   \n",
      "2                             -0.220558                    -0.041572   \n",
      "3                              1.092078                     0.205843   \n",
      "\n",
      "                general_category_Education  general_category_Entertainment  \\\n",
      "cluster_labels                                                               \n",
      "0                                -0.053104                       -0.117304   \n",
      "1                                -0.053104                       -0.117304   \n",
      "2                                -0.053104                       -0.117304   \n",
      "3                                 0.262938                        0.580820   \n",
      "\n",
      "                general_category_Fitness  general_category_Florist  \\\n",
      "cluster_labels                                                       \n",
      "0                              -0.058317                 -0.028405   \n",
      "1                              -0.058317                  0.036581   \n",
      "2                              -0.058317                 -0.028405   \n",
      "3                               0.288750                 -0.028405   \n",
      "\n",
      "                general_category_Groceries  general_category_Home_Services  \\\n",
      "cluster_labels                                                               \n",
      "0                                -0.040985                       -0.146242   \n",
      "1                                -0.040985                       -0.146242   \n",
      "2                                -0.040985                       -0.146242   \n",
      "3                                 0.202932                        0.724106   \n",
      "\n",
      "                general_category_Hotels  general_category_Legal  \\\n",
      "cluster_labels                                                    \n",
      "0                             -0.081638               -0.078787   \n",
      "1                             -0.081638               -0.078787   \n",
      "2                             -0.081638               -0.078787   \n",
      "3                              0.404223                0.390108   \n",
      "\n",
      "                general_category_Medical  general_category_Nightlife  \\\n",
      "cluster_labels                                                         \n",
      "0                              -0.095696                   -0.034843   \n",
      "1                              -0.095696                    0.044871   \n",
      "2                              -0.095696                   -0.034843   \n",
      "3                               0.473833                   -0.034843   \n",
      "\n",
      "                general_category_Other  general_category_Pets  \\\n",
      "cluster_labels                                                  \n",
      "0                            -0.650786              -0.094418   \n",
      "1                            -0.650786              -0.094418   \n",
      "2                             1.536603              -0.094418   \n",
      "3                            -0.650786               0.467505   \n",
      "\n",
      "                general_category_Restaurant  general_category_Shopping  \\\n",
      "cluster_labels                                                           \n",
      "0                                 -0.877587                  -0.147388   \n",
      "1                                  1.130172                  -0.147388   \n",
      "2                                 -0.877587                  -0.147388   \n",
      "3                                 -0.877587                   0.729781   \n",
      "\n",
      "                general_category_Venues  \n",
      "cluster_labels                           \n",
      "0                             -0.077049  \n",
      "1                             -0.077049  \n",
      "2                             -0.077049  \n",
      "3                              0.381500  \n"
     ]
    }
   ],
   "source": [
    "# Group data by 'cluster_labels'\n",
    "cluster_groups = scaled_category_sentiment.groupby('cluster_labels')\n",
    "\n",
    "# Calculate the average metrics within each cluster\n",
    "avg_cluster_metrics = cluster_groups.mean()\n",
    "\n",
    "# Print average metrics across clusters\n",
    "print(avg_cluster_metrics)"
   ]
  },
  {
   "cell_type": "markdown",
   "metadata": {},
   "source": [
    "# Don't forget Analysis !!!!!!\n"
   ]
  },
  {
   "cell_type": "markdown",
   "metadata": {},
   "source": []
  }
 ],
 "metadata": {
  "kernelspec": {
   "display_name": "Python 3",
   "language": "python",
   "name": "python3"
  },
  "language_info": {
   "codemirror_mode": {
    "name": "ipython",
    "version": 3
   },
   "file_extension": ".py",
   "mimetype": "text/x-python",
   "name": "python",
   "nbconvert_exporter": "python",
   "pygments_lexer": "ipython3",
   "version": "3.11.4"
  }
 },
 "nbformat": 4,
 "nbformat_minor": 2
}
